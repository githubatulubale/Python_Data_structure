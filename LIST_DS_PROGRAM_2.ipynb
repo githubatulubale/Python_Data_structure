{
 "cells": [
  {
   "cell_type": "markdown",
   "id": "b13195ac-00ff-4610-8e72-a7e9b5ee4b40",
   "metadata": {},
   "source": [
    "# LIST DATA STRUCTURE"
   ]
  },
  {
   "cell_type": "code",
   "execution_count": 2,
   "id": "6bcf23d8-1c24-49dc-a480-f22d5214fa9a",
   "metadata": {},
   "outputs": [],
   "source": [
    "list1 = []     # create the empty list"
   ]
  },
  {
   "cell_type": "code",
   "execution_count": 13,
   "id": "34e64439-48d8-4083-b769-ca3693bb70e8",
   "metadata": {},
   "outputs": [
    {
     "name": "stdout",
     "output_type": "stream",
     "text": [
      "[1, 2, 3, 4, 5, 'Generative AI', (12+8j), [10, 34, 5, 6]]\n"
     ]
    }
   ],
   "source": [
    "list1 = [1,2,3,4,5,\"Generative AI\",12+8j,[10,34,5,6]]     # we can enter the all type of value in list\n",
    "print(list1)"
   ]
  },
  {
   "cell_type": "markdown",
   "id": "d86b8306-ded2-4c31-903a-555cc86300b4",
   "metadata": {},
   "source": [
    "# list indexing"
   ]
  },
  {
   "cell_type": "code",
   "execution_count": 14,
   "id": "a0bd2777-fd9c-4b01-8da2-0880859de3f6",
   "metadata": {},
   "outputs": [
    {
     "data": {
      "text/plain": [
       "1"
      ]
     },
     "execution_count": 14,
     "metadata": {},
     "output_type": "execute_result"
    }
   ],
   "source": [
    "list1[0]   # list print first eleement in the list"
   ]
  },
  {
   "cell_type": "code",
   "execution_count": 15,
   "id": "cc2b84f3-8278-4cb9-adaf-62ff225f2971",
   "metadata": {},
   "outputs": [
    {
     "data": {
      "text/plain": [
       "2"
      ]
     },
     "execution_count": 15,
     "metadata": {},
     "output_type": "execute_result"
    }
   ],
   "source": [
    "list1[1]  # list print the 1 index number"
   ]
  },
  {
   "cell_type": "code",
   "execution_count": 16,
   "id": "6c969131-ef64-482a-bef7-9a72e4b133f8",
   "metadata": {},
   "outputs": [
    {
     "data": {
      "text/plain": [
       "3"
      ]
     },
     "execution_count": 16,
     "metadata": {},
     "output_type": "execute_result"
    }
   ],
   "source": [
    "list1[2]    # list print the second number"
   ]
  },
  {
   "cell_type": "code",
   "execution_count": 17,
   "id": "11cedc58-95f1-4cde-95a7-82c239a0e7f6",
   "metadata": {},
   "outputs": [
    {
     "data": {
      "text/plain": [
       "'Generative AI'"
      ]
     },
     "execution_count": 17,
     "metadata": {},
     "output_type": "execute_result"
    }
   ],
   "source": [
    "list1[5]"
   ]
  },
  {
   "cell_type": "markdown",
   "id": "ba4b05d6-53b1-483e-a31b-1e9fa3310090",
   "metadata": {},
   "source": [
    "# Length"
   ]
  },
  {
   "cell_type": "code",
   "execution_count": 20,
   "id": "78833353-ccc6-4211-9be6-e3838d4b3cdc",
   "metadata": {},
   "outputs": [
    {
     "name": "stdout",
     "output_type": "stream",
     "text": [
      "8\n"
     ]
    }
   ],
   "source": [
    "print(len(list1))"
   ]
  },
  {
   "cell_type": "markdown",
   "id": "a2dbe6e4-b272-45d8-b4b9-aad458cb99df",
   "metadata": {},
   "source": [
    "# List Slicing"
   ]
  },
  {
   "cell_type": "code",
   "execution_count": 21,
   "id": "5f9003a4-0d1f-48b4-9bda-c000b37c03dd",
   "metadata": {},
   "outputs": [
    {
     "data": {
      "text/plain": [
       "[1, 2, 3, 4, 5, 'Generative AI', (12+8j), [10, 34, 5, 6]]"
      ]
     },
     "execution_count": 21,
     "metadata": {},
     "output_type": "execute_result"
    }
   ],
   "source": [
    "list1[:]  # print the all number from 0 to n-1 list"
   ]
  },
  {
   "cell_type": "code",
   "execution_count": 22,
   "id": "2d140857-0898-4ecd-ad12-d1a96ccc3719",
   "metadata": {},
   "outputs": [
    {
     "data": {
      "text/plain": [
       "[1, 2, 3, 4, 5]"
      ]
     },
     "execution_count": 22,
     "metadata": {},
     "output_type": "execute_result"
    }
   ],
   "source": [
    "list1[:5]"
   ]
  },
  {
   "cell_type": "code",
   "execution_count": 24,
   "id": "627b3e1d-75c7-4872-94d2-7af96e3a6704",
   "metadata": {},
   "outputs": [
    {
     "data": {
      "text/plain": [
       "[1, 2, 3, 4, 5, 'Generative AI', (12+8j), [10, 34, 5, 6]]"
      ]
     },
     "execution_count": 24,
     "metadata": {},
     "output_type": "execute_result"
    }
   ],
   "source": [
    "list1[:8]  # print number from 0 to n-1"
   ]
  },
  {
   "cell_type": "code",
   "execution_count": 26,
   "id": "3666fef8-5d0d-49f0-8088-8827a6ff3f0e",
   "metadata": {},
   "outputs": [
    {
     "data": {
      "text/plain": [
       "[2, 3, 4]"
      ]
     },
     "execution_count": 26,
     "metadata": {},
     "output_type": "execute_result"
    }
   ],
   "source": [
    "list1[1:4]   # print number from 1 to n-1"
   ]
  },
  {
   "cell_type": "code",
   "execution_count": 27,
   "id": "55dba5ce-7fce-4b4d-a518-f65de5130135",
   "metadata": {},
   "outputs": [
    {
     "data": {
      "text/plain": [
       "[10, 34, 5, 6]"
      ]
     },
     "execution_count": 27,
     "metadata": {},
     "output_type": "execute_result"
    }
   ],
   "source": [
    "list1[-1]  # print number from backward negative indexing "
   ]
  },
  {
   "cell_type": "code",
   "execution_count": 28,
   "id": "c0b74a02-45e9-4495-8313-85b62dc2847f",
   "metadata": {},
   "outputs": [
    {
     "data": {
      "text/plain": [
       "[4, 5, 'Generative AI', (12+8j), [10, 34, 5, 6]]"
      ]
     },
     "execution_count": 28,
     "metadata": {},
     "output_type": "execute_result"
    }
   ],
   "source": [
    "list1[-5:]"
   ]
  },
  {
   "cell_type": "code",
   "execution_count": 29,
   "id": "d6b70d26-8f48-4edb-a6c6-4e0c2e66bccf",
   "metadata": {},
   "outputs": [
    {
     "data": {
      "text/plain": [
       "[4, 5, 'Generative AI', (12+8j)]"
      ]
     },
     "execution_count": 29,
     "metadata": {},
     "output_type": "execute_result"
    }
   ],
   "source": [
    "list1[-5:-1]    # it start from -5 and end will -1"
   ]
  },
  {
   "cell_type": "code",
   "execution_count": 31,
   "id": "f1ae0855-b6f0-42d8-bc27-f68eececcd3e",
   "metadata": {},
   "outputs": [
    {
     "data": {
      "text/plain": [
       "[1, 2, 3, 4, 5, 'Generative AI', (12+8j), [10, 34, 5, 6]]"
      ]
     },
     "execution_count": 31,
     "metadata": {},
     "output_type": "execute_result"
    }
   ],
   "source": [
    "list1[::1]   # print no from 0 to n-1 froward indexing"
   ]
  },
  {
   "cell_type": "code",
   "execution_count": 32,
   "id": "a8366f43-3953-4df0-891a-dc22339aaf05",
   "metadata": {},
   "outputs": [
    {
     "data": {
      "text/plain": [
       "[[10, 34, 5, 6], (12+8j), 'Generative AI', 5, 4, 3, 2, 1]"
      ]
     },
     "execution_count": 32,
     "metadata": {},
     "output_type": "execute_result"
    }
   ],
   "source": [
    "list1[::-1]  # print no from reverse"
   ]
  },
  {
   "cell_type": "code",
   "execution_count": 33,
   "id": "dd5b582d-ab15-45a8-9642-e8c231826987",
   "metadata": {},
   "outputs": [
    {
     "data": {
      "text/plain": [
       "[1, 2, 3, 4, 5, 'Generative AI', (12+8j)]"
      ]
     },
     "execution_count": 33,
     "metadata": {},
     "output_type": "execute_result"
    }
   ],
   "source": [
    "list1[:-1]   # start number 0 to -1 . [start:end]"
   ]
  },
  {
   "cell_type": "markdown",
   "id": "855e2884-2ba0-40d5-8aa3-ce6ba914d71b",
   "metadata": {},
   "source": [
    "# List operation"
   ]
  },
  {
   "cell_type": "code",
   "execution_count": null,
   "id": "6715b70e-3761-4bd9-b164-90458d381333",
   "metadata": {},
   "outputs": [],
   "source": [
    "# .append()   ....add the element in last\n",
    "# .count()    ....count the number ocurane\n",
    "# .copy()     ....copy the list one variable to another\n",
    "# .reverse()  .....reverse the list\n",
    "# .index()    .....put value to get index of specific value\n",
    "# .clear()    .....clear the element in the list\n",
    "# .extent()   .....add two list in one list\n",
    "# .insert(,)  .....insert element in the list of specific location\n",
    "# .remove()    ....remove first occurance of xvalue\n",
    "# .sort()      .....sort the list assending bydefault\n",
    "# .del()       .....delete entire list\n",
    "#.pop(i)      .......Removes item at index i (default last)"
   ]
  },
  {
   "cell_type": "code",
   "execution_count": 34,
   "id": "12c4ebd5-7c59-4925-b9b2-7b0ef6353a66",
   "metadata": {},
   "outputs": [],
   "source": [
    "list2 = []"
   ]
  },
  {
   "cell_type": "code",
   "execution_count": 35,
   "id": "2597af7b-f331-48d7-be67-6e806155d2f7",
   "metadata": {},
   "outputs": [],
   "source": [
    "list2.append(10)\n",
    "list2.append(20)\n",
    "list2.append(\"Mango\")"
   ]
  },
  {
   "cell_type": "code",
   "execution_count": 36,
   "id": "a0f1eb09-ddc5-4c26-b8e8-9602ca74078e",
   "metadata": {},
   "outputs": [
    {
     "data": {
      "text/plain": [
       "[10, 20, 'Mango']"
      ]
     },
     "execution_count": 36,
     "metadata": {},
     "output_type": "execute_result"
    }
   ],
   "source": [
    "list2                     # append function operation done"
   ]
  },
  {
   "cell_type": "code",
   "execution_count": 37,
   "id": "b2497fc3-7c77-4511-992b-6543bd7f46b3",
   "metadata": {},
   "outputs": [
    {
     "data": {
      "text/plain": [
       "1"
      ]
     },
     "execution_count": 37,
     "metadata": {},
     "output_type": "execute_result"
    }
   ],
   "source": [
    "list2.count(10)           # count function done"
   ]
  },
  {
   "cell_type": "code",
   "execution_count": 38,
   "id": "e44aa112-4811-4bac-bafb-195ee9be80af",
   "metadata": {},
   "outputs": [],
   "source": [
    "list2.remove(10)"
   ]
  },
  {
   "cell_type": "code",
   "execution_count": 39,
   "id": "394ad0cc-ebc4-4d0a-aa32-1d6b49a2f09f",
   "metadata": {},
   "outputs": [
    {
     "data": {
      "text/plain": [
       "[20, 'Mango']"
      ]
     },
     "execution_count": 39,
     "metadata": {},
     "output_type": "execute_result"
    }
   ],
   "source": [
    "list2                    #  remove specific element"
   ]
  },
  {
   "cell_type": "code",
   "execution_count": 40,
   "id": "59b161b4-05d8-4f99-8baa-8d7de143cdc1",
   "metadata": {},
   "outputs": [],
   "source": [
    "list3 = list2.copy()"
   ]
  },
  {
   "cell_type": "code",
   "execution_count": 42,
   "id": "5debf028-9fe8-4587-a09a-e0db6831655c",
   "metadata": {},
   "outputs": [
    {
     "data": {
      "text/plain": [
       "[20, 'Mango']"
      ]
     },
     "execution_count": 42,
     "metadata": {},
     "output_type": "execute_result"
    }
   ],
   "source": [
    "list3                   #  copy list2 to list3"
   ]
  },
  {
   "cell_type": "code",
   "execution_count": 43,
   "id": "35b8268d-512b-406e-98a7-9c89a2325fcd",
   "metadata": {},
   "outputs": [],
   "source": [
    "list3.insert(0,100)"
   ]
  },
  {
   "cell_type": "code",
   "execution_count": 45,
   "id": "51edd8c1-2ebb-49d1-9600-77cb5e0f4db5",
   "metadata": {},
   "outputs": [
    {
     "data": {
      "text/plain": [
       "[100, 20, 'Mango']"
      ]
     },
     "execution_count": 45,
     "metadata": {},
     "output_type": "execute_result"
    }
   ],
   "source": [
    "list3                  # insert element at first position"
   ]
  },
  {
   "cell_type": "code",
   "execution_count": 46,
   "id": "a890b4dc-76ba-4598-a66b-fedcf449a04b",
   "metadata": {},
   "outputs": [],
   "source": [
    "list3.reverse()"
   ]
  },
  {
   "cell_type": "code",
   "execution_count": 47,
   "id": "8f7ec97c-4130-4fc6-b59f-1fc56781672d",
   "metadata": {},
   "outputs": [
    {
     "data": {
      "text/plain": [
       "['Mango', 20, 100]"
      ]
     },
     "execution_count": 47,
     "metadata": {},
     "output_type": "execute_result"
    }
   ],
   "source": [
    "list3                # reverse the list"
   ]
  },
  {
   "cell_type": "code",
   "execution_count": 50,
   "id": "d984e3b3-2160-4fd4-a670-4bf36290c717",
   "metadata": {},
   "outputs": [
    {
     "data": {
      "text/plain": [
       "1"
      ]
     },
     "execution_count": 50,
     "metadata": {},
     "output_type": "execute_result"
    }
   ],
   "source": [
    "list3.index(20)"
   ]
  },
  {
   "cell_type": "code",
   "execution_count": 52,
   "id": "29606ef5-0b30-4ee8-a4ba-541414b020b5",
   "metadata": {},
   "outputs": [
    {
     "data": {
      "text/plain": [
       "2"
      ]
     },
     "execution_count": 52,
     "metadata": {},
     "output_type": "execute_result"
    }
   ],
   "source": [
    "list3.index(100)    # return the index"
   ]
  },
  {
   "cell_type": "code",
   "execution_count": 93,
   "id": "c514a608-c581-4b90-9b30-f27a9eccec3b",
   "metadata": {},
   "outputs": [],
   "source": [
    "My_list = [1,2,3]\n",
    "my_list2 = [0,4,2]"
   ]
  },
  {
   "cell_type": "code",
   "execution_count": 94,
   "id": "41c7fa26-4368-4366-a287-10bdcba569ec",
   "metadata": {},
   "outputs": [],
   "source": [
    "My_list.extend(my_list2)"
   ]
  },
  {
   "cell_type": "code",
   "execution_count": 95,
   "id": "f5bc7673-fcef-4551-bbbe-cca661f7c2a4",
   "metadata": {},
   "outputs": [
    {
     "data": {
      "text/plain": [
       "[1, 2, 3, 0, 4, 2]"
      ]
     },
     "execution_count": 95,
     "metadata": {},
     "output_type": "execute_result"
    }
   ],
   "source": [
    "My_list            # extend function done"
   ]
  },
  {
   "cell_type": "code",
   "execution_count": 96,
   "id": "dd074c91-4303-4a89-8617-58c883108db1",
   "metadata": {},
   "outputs": [],
   "source": [
    "My_list.sort()"
   ]
  },
  {
   "cell_type": "code",
   "execution_count": 97,
   "id": "8833cde7-aebb-4698-98d1-4dabe7189851",
   "metadata": {},
   "outputs": [
    {
     "data": {
      "text/plain": [
       "[0, 1, 2, 2, 3, 4]"
      ]
     },
     "execution_count": 97,
     "metadata": {},
     "output_type": "execute_result"
    }
   ],
   "source": [
    "My_list                 # sort function done"
   ]
  },
  {
   "cell_type": "code",
   "execution_count": 98,
   "id": "8d183e9f-6902-44c5-bb8f-3b6497b0501d",
   "metadata": {},
   "outputs": [
    {
     "data": {
      "text/plain": [
       "4"
      ]
     },
     "execution_count": 98,
     "metadata": {},
     "output_type": "execute_result"
    }
   ],
   "source": [
    "My_list.pop()                 # pop value at last position"
   ]
  },
  {
   "cell_type": "code",
   "execution_count": 99,
   "id": "a5e26efc-18a6-4717-9f3f-40e438024c98",
   "metadata": {},
   "outputs": [
    {
     "data": {
      "text/plain": [
       "[0, 1, 2, 2, 3]"
      ]
     },
     "execution_count": 99,
     "metadata": {},
     "output_type": "execute_result"
    }
   ],
   "source": [
    "My_list"
   ]
  },
  {
   "cell_type": "code",
   "execution_count": 100,
   "id": "252fffbf-bab4-481d-bd2e-e90eb6d6f4bd",
   "metadata": {},
   "outputs": [
    {
     "data": {
      "text/plain": [
       "1"
      ]
     },
     "execution_count": 100,
     "metadata": {},
     "output_type": "execute_result"
    }
   ],
   "source": [
    "My_list.pop(1)"
   ]
  },
  {
   "cell_type": "code",
   "execution_count": 101,
   "id": "0f9830df-4208-4d02-852d-c2a45e58cce7",
   "metadata": {},
   "outputs": [
    {
     "data": {
      "text/plain": [
       "[0, 2, 2, 3]"
      ]
     },
     "execution_count": 101,
     "metadata": {},
     "output_type": "execute_result"
    }
   ],
   "source": [
    "My_list                         # pop element at speific loation"
   ]
  },
  {
   "cell_type": "code",
   "execution_count": 72,
   "id": "358f16f7-37f2-4778-a0d1-9d49acfec345",
   "metadata": {},
   "outputs": [],
   "source": [
    "# del is not a function, it's a statement)"
   ]
  },
  {
   "cell_type": "code",
   "execution_count": 73,
   "id": "dc189ef9-b38a-4e5e-a68f-aeda1a35ce63",
   "metadata": {},
   "outputs": [],
   "source": [
    "del My_list[0]"
   ]
  },
  {
   "cell_type": "code",
   "execution_count": 74,
   "id": "417fe18d-048b-41df-8ae1-6af7796f4f3d",
   "metadata": {},
   "outputs": [
    {
     "data": {
      "text/plain": [
       "[2, 2, 3]"
      ]
     },
     "execution_count": 74,
     "metadata": {},
     "output_type": "execute_result"
    }
   ],
   "source": [
    "My_list                         # del done"
   ]
  },
  {
   "cell_type": "code",
   "execution_count": 75,
   "id": "b0191838-fd0b-4b15-8d65-423d332c2236",
   "metadata": {},
   "outputs": [],
   "source": [
    "del My_list                  # specifi element we can delete"
   ]
  },
  {
   "cell_type": "code",
   "execution_count": 76,
   "id": "7dd50a95-a1e3-4173-8f25-5d2ae38a822a",
   "metadata": {},
   "outputs": [
    {
     "ename": "NameError",
     "evalue": "name 'My_list' is not defined",
     "output_type": "error",
     "traceback": [
      "\u001b[1;31m---------------------------------------------------------------------------\u001b[0m",
      "\u001b[1;31mNameError\u001b[0m                                 Traceback (most recent call last)",
      "Cell \u001b[1;32mIn[76], line 1\u001b[0m\n\u001b[1;32m----> 1\u001b[0m \u001b[43mMy_list\u001b[49m\n",
      "\u001b[1;31mNameError\u001b[0m: name 'My_list' is not defined"
     ]
    }
   ],
   "source": [
    "My_list                      # delete all list"
   ]
  },
  {
   "cell_type": "code",
   "execution_count": 102,
   "id": "f6fcfbf7-d86d-4f55-b83e-1a6f6b83ae6b",
   "metadata": {},
   "outputs": [
    {
     "data": {
      "text/plain": [
       "50"
      ]
     },
     "execution_count": 102,
     "metadata": {},
     "output_type": "execute_result"
    }
   ],
   "source": [
    "N = [10,20,30,40,50]\n",
    "N.pop()"
   ]
  },
  {
   "cell_type": "code",
   "execution_count": 103,
   "id": "4a602d26-d709-4f7d-bea6-999fb1f9a9fb",
   "metadata": {},
   "outputs": [
    {
     "data": {
      "text/plain": [
       "[10, 20, 30, 40]"
      ]
     },
     "execution_count": 103,
     "metadata": {},
     "output_type": "execute_result"
    }
   ],
   "source": [
    "N"
   ]
  },
  {
   "cell_type": "code",
   "execution_count": 104,
   "id": "aeb156d2-9e25-4e91-aaa0-c6254a32a038",
   "metadata": {},
   "outputs": [
    {
     "data": {
      "text/plain": [
       "10"
      ]
     },
     "execution_count": 104,
     "metadata": {},
     "output_type": "execute_result"
    }
   ],
   "source": [
    "N.pop(0)"
   ]
  },
  {
   "cell_type": "code",
   "execution_count": 105,
   "id": "994a85f6-a1a9-43d1-aed4-f86862a243cb",
   "metadata": {},
   "outputs": [
    {
     "data": {
      "text/plain": [
       "[20, 30, 40]"
      ]
     },
     "execution_count": 105,
     "metadata": {},
     "output_type": "execute_result"
    }
   ],
   "source": [
    "N"
   ]
  },
  {
   "cell_type": "code",
   "execution_count": null,
   "id": "0378d452-137e-405c-9490-2240543bef8c",
   "metadata": {},
   "outputs": [],
   "source": []
  },
  {
   "cell_type": "code",
   "execution_count": null,
   "id": "f2a377ff-0db6-4b37-87cf-7459b06a01e6",
   "metadata": {},
   "outputs": [],
   "source": []
  }
 ],
 "metadata": {
  "kernelspec": {
   "display_name": "Python 3 (ipykernel)",
   "language": "python",
   "name": "python3"
  },
  "language_info": {
   "codemirror_mode": {
    "name": "ipython",
    "version": 3
   },
   "file_extension": ".py",
   "mimetype": "text/x-python",
   "name": "python",
   "nbconvert_exporter": "python",
   "pygments_lexer": "ipython3",
   "version": "3.12.4"
  }
 },
 "nbformat": 4,
 "nbformat_minor": 5
}
