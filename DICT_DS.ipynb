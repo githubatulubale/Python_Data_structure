{
 "cells": [
  {
   "cell_type": "markdown",
   "id": "1dae3e4f-48b2-4050-8c3d-d8df1d9489cc",
   "metadata": {},
   "source": [
    "# DICT Data Structure"
   ]
  },
  {
   "cell_type": "code",
   "execution_count": 261,
   "id": "df5cb9b6-e685-46de-8174-35e4e22b53d9",
   "metadata": {},
   "outputs": [],
   "source": [
    "dict1 = {}  # we can create the empty dict"
   ]
  },
  {
   "cell_type": "code",
   "execution_count": 262,
   "id": "a90001d3-5153-454a-9d4a-993c5f630790",
   "metadata": {},
   "outputs": [
    {
     "data": {
      "text/plain": [
       "{}"
      ]
     },
     "execution_count": 262,
     "metadata": {},
     "output_type": "execute_result"
    }
   ],
   "source": [
    "dict1"
   ]
  },
  {
   "cell_type": "code",
   "execution_count": 263,
   "id": "9466c373-32ed-4a14-9640-f2b6c935286f",
   "metadata": {},
   "outputs": [],
   "source": [
    "dict1 = {1:\"Atul\",2:\"Apple\",3:\"Laptop\",4:\"TV\",5:\"Music\"}"
   ]
  },
  {
   "cell_type": "code",
   "execution_count": 264,
   "id": "3f3c552a-fc56-44ce-9300-3116c8520c84",
   "metadata": {},
   "outputs": [],
   "source": [
    "dict2 = {\"fruits\":\"Apple\",\"Tablet\":\"Expensive\",\"Car\":\"farrari\"}"
   ]
  },
  {
   "cell_type": "code",
   "execution_count": 265,
   "id": "b74a6756-002c-4f21-81a5-229e08c7d2f8",
   "metadata": {},
   "outputs": [],
   "source": [
    "dict3 = {1:\"one\",2:\"Two\",3:\"three\",4:\"Four\",5:\"Five\",6:\"six\"}"
   ]
  },
  {
   "cell_type": "markdown",
   "id": "cb7ffc4d-9d62-458d-b70c-1099786d74d8",
   "metadata": {},
   "source": [
    "# Access keys"
   ]
  },
  {
   "cell_type": "code",
   "execution_count": 266,
   "id": "d6abf2ad-fe7a-4ddc-bf38-be65caeda018",
   "metadata": {},
   "outputs": [
    {
     "data": {
      "text/plain": [
       "{1: 'Atul', 2: 'Apple', 3: 'Laptop', 4: 'TV', 5: 'Music'}"
      ]
     },
     "execution_count": 266,
     "metadata": {},
     "output_type": "execute_result"
    }
   ],
   "source": [
    "dict1"
   ]
  },
  {
   "cell_type": "code",
   "execution_count": 267,
   "id": "ef571548-d9d5-4d6e-a0f7-198861556c99",
   "metadata": {},
   "outputs": [
    {
     "data": {
      "text/plain": [
       "dict_keys([1, 2, 3, 4, 5])"
      ]
     },
     "execution_count": 267,
     "metadata": {},
     "output_type": "execute_result"
    }
   ],
   "source": [
    "dict1.keys()                         # access keys using key function"
   ]
  },
  {
   "cell_type": "code",
   "execution_count": 268,
   "id": "5d1d7299-0e89-40ee-a96a-55528c1b3469",
   "metadata": {},
   "outputs": [
    {
     "data": {
      "text/plain": [
       "dict_keys(['fruits', 'Tablet', 'Car'])"
      ]
     },
     "execution_count": 268,
     "metadata": {},
     "output_type": "execute_result"
    }
   ],
   "source": [
    "dict2.keys()"
   ]
  },
  {
   "cell_type": "code",
   "execution_count": 269,
   "id": "fda243c4-b3f4-40eb-afdc-85d0b2d94455",
   "metadata": {},
   "outputs": [
    {
     "data": {
      "text/plain": [
       "dict_keys([1, 2, 3, 4, 5, 6])"
      ]
     },
     "execution_count": 269,
     "metadata": {},
     "output_type": "execute_result"
    }
   ],
   "source": [
    "dict3.keys()"
   ]
  },
  {
   "cell_type": "markdown",
   "id": "04d8ef2a-112a-4969-a51c-5882500ad778",
   "metadata": {},
   "source": [
    "#  Access Values"
   ]
  },
  {
   "cell_type": "code",
   "execution_count": 220,
   "id": "9847f710-d31a-404d-8698-9a07a2f299e2",
   "metadata": {},
   "outputs": [
    {
     "data": {
      "text/plain": [
       "dict_values(['Atul', 'Apple', 'Laptop', 'TV', 'Music'])"
      ]
     },
     "execution_count": 220,
     "metadata": {},
     "output_type": "execute_result"
    }
   ],
   "source": [
    "dict1.values()                      # access values using values function"
   ]
  },
  {
   "cell_type": "code",
   "execution_count": 221,
   "id": "41be3260-401f-4b0d-be0a-d558d8d558f9",
   "metadata": {},
   "outputs": [
    {
     "data": {
      "text/plain": [
       "dict_items([(1, 'Atul'), (2, 'Apple'), (3, 'Laptop'), (4, 'TV'), (5, 'Music')])"
      ]
     },
     "execution_count": 221,
     "metadata": {},
     "output_type": "execute_result"
    }
   ],
   "source": [
    "dict1.items()"
   ]
  },
  {
   "cell_type": "code",
   "execution_count": 174,
   "id": "92058032-607e-4f49-be04-ffc27d8b51b2",
   "metadata": {},
   "outputs": [],
   "source": [
    "dict1={1:'one',2:{1,2,3}}"
   ]
  },
  {
   "cell_type": "code",
   "execution_count": 270,
   "id": "ae2a5966-0cca-4528-b46d-2e5938165043",
   "metadata": {},
   "outputs": [
    {
     "data": {
      "text/plain": [
       "dict_values(['Apple', 'Expensive', 'farrari'])"
      ]
     },
     "execution_count": 270,
     "metadata": {},
     "output_type": "execute_result"
    }
   ],
   "source": [
    "dict2.values()"
   ]
  },
  {
   "cell_type": "code",
   "execution_count": 271,
   "id": "9dd054cb-3f78-4764-9804-edfc289ca316",
   "metadata": {},
   "outputs": [
    {
     "data": {
      "text/plain": [
       "dict_values(['one', 'Two', 'three', 'Four', 'Five', 'six'])"
      ]
     },
     "execution_count": 271,
     "metadata": {},
     "output_type": "execute_result"
    }
   ],
   "source": [
    "dict3.values()"
   ]
  },
  {
   "cell_type": "markdown",
   "id": "8dfeecd4-d8a9-44e1-925e-bf26b9f71e51",
   "metadata": {},
   "source": [
    "# Formkeys()"
   ]
  },
  {
   "cell_type": "code",
   "execution_count": 222,
   "id": "8edab795-1008-48fb-bdc6-5bf783512b94",
   "metadata": {},
   "outputs": [],
   "source": [
    "dict1 = {'a','b','c','d'}        # convert keys into dict keys\n",
    "d= dict.fromkeys(dict1)"
   ]
  },
  {
   "cell_type": "code",
   "execution_count": 223,
   "id": "42a6747a-845d-4f66-a372-afe697785fbc",
   "metadata": {},
   "outputs": [
    {
     "data": {
      "text/plain": [
       "{'a': None, 'c': None, 'd': None, 'b': None}"
      ]
     },
     "execution_count": 223,
     "metadata": {},
     "output_type": "execute_result"
    }
   ],
   "source": [
    "d"
   ]
  },
  {
   "cell_type": "code",
   "execution_count": 224,
   "id": "39001d41-5507-40bc-8f6b-06134bb9d077",
   "metadata": {},
   "outputs": [],
   "source": [
    "dict2 = {'a','b','c'}\n",
    "value = 10"
   ]
  },
  {
   "cell_type": "code",
   "execution_count": 225,
   "id": "6711ffb0-05d5-4498-964d-764fe98aa5d9",
   "metadata": {},
   "outputs": [],
   "source": [
    "NEW = dict.fromkeys(dict2,value)"
   ]
  },
  {
   "cell_type": "code",
   "execution_count": 226,
   "id": "5843eb14-b8dc-440d-be3c-3ae7f959ddf1",
   "metadata": {},
   "outputs": [
    {
     "data": {
      "text/plain": [
       "{'a': 10, 'c': 10, 'b': 10}"
      ]
     },
     "execution_count": 226,
     "metadata": {},
     "output_type": "execute_result"
    }
   ],
   "source": [
    "NEW"
   ]
  },
  {
   "cell_type": "code",
   "execution_count": 227,
   "id": "d3fb7544-5515-4424-be62-81a5b686d0e0",
   "metadata": {},
   "outputs": [],
   "source": [
    "dict1 = {1:\"Atul\",2:\"Apple\",3:\"Laptop\",4:\"TV\",5:\"Music\"}"
   ]
  },
  {
   "cell_type": "code",
   "execution_count": 181,
   "id": "e15d9aa0-5b82-4669-8426-66a4833d0121",
   "metadata": {},
   "outputs": [
    {
     "data": {
      "text/plain": [
       "'Atul'"
      ]
     },
     "execution_count": 181,
     "metadata": {},
     "output_type": "execute_result"
    }
   ],
   "source": [
    "dict1[1]"
   ]
  },
  {
   "cell_type": "markdown",
   "id": "0c1cd015-33a4-42b3-ac31-611ae1507a8b",
   "metadata": {},
   "source": [
    "# get() function"
   ]
  },
  {
   "cell_type": "code",
   "execution_count": 182,
   "id": "34166aeb-876e-40ee-8ba9-a4002d7f63bf",
   "metadata": {},
   "outputs": [
    {
     "data": {
      "text/plain": [
       "'Laptop'"
      ]
     },
     "execution_count": 182,
     "metadata": {},
     "output_type": "execute_result"
    }
   ],
   "source": [
    "dict1.get(3)"
   ]
  },
  {
   "cell_type": "code",
   "execution_count": 244,
   "id": "7fe88d09-534e-4b19-bee1-11f8dc36c235",
   "metadata": {},
   "outputs": [
    {
     "data": {
      "text/plain": [
       "'TV'"
      ]
     },
     "execution_count": 244,
     "metadata": {},
     "output_type": "execute_result"
    }
   ],
   "source": [
    "dict1.get(4)"
   ]
  },
  {
   "cell_type": "code",
   "execution_count": 246,
   "id": "73ce36de-9eec-4b70-b0fc-b4fd2d16e46e",
   "metadata": {},
   "outputs": [
    {
     "data": {
      "text/plain": [
       "'Music'"
      ]
     },
     "execution_count": 246,
     "metadata": {},
     "output_type": "execute_result"
    }
   ],
   "source": [
    "dict1.get(5)"
   ]
  },
  {
   "cell_type": "code",
   "execution_count": 245,
   "id": "5050867f-9135-4896-8927-bc6eb0d6284c",
   "metadata": {},
   "outputs": [
    {
     "ename": "KeyError",
     "evalue": "-1",
     "output_type": "error",
     "traceback": [
      "\u001b[1;31m----------------------------------------------------------------\u001b[0m",
      "\u001b[1;31mKeyError\u001b[0m                       Traceback (most recent call last)",
      "Cell \u001b[1;32mIn[245], line 1\u001b[0m\n\u001b[1;32m----> 1\u001b[0m \u001b[43mdict1\u001b[49m\u001b[43m[\u001b[49m\u001b[38;5;241;43m-\u001b[39;49m\u001b[38;5;241;43m1\u001b[39;49m\u001b[43m]\u001b[49m\n",
      "\u001b[1;31mKeyError\u001b[0m: -1"
     ]
    }
   ],
   "source": [
    "dict1[-1]  # negative indexing not allowed"
   ]
  },
  {
   "cell_type": "markdown",
   "id": "76373314-ab29-4f2c-b442-0b428ae2db64",
   "metadata": {},
   "source": [
    "# Add,remove and change items"
   ]
  },
  {
   "cell_type": "code",
   "execution_count": 183,
   "id": "b7ec9f5d-4056-4597-8b46-27f6285bdb3e",
   "metadata": {},
   "outputs": [
    {
     "data": {
      "text/plain": [
       "{1: 'Atul', 2: 'Apple', 3: 'Laptop', 4: 'TV', 5: 'Music'}"
      ]
     },
     "execution_count": 183,
     "metadata": {},
     "output_type": "execute_result"
    }
   ],
   "source": [
    "dict1"
   ]
  },
  {
   "cell_type": "code",
   "execution_count": 228,
   "id": "ad14f061-97a3-4f52-adad-3bed9c20399f",
   "metadata": {},
   "outputs": [],
   "source": [
    "dict1[\"1\"]:\"Aditya\"             # update the item"
   ]
  },
  {
   "cell_type": "code",
   "execution_count": 229,
   "id": "72ce91da-9c79-4ced-b191-b72bd46c0596",
   "metadata": {},
   "outputs": [
    {
     "data": {
      "text/plain": [
       "{1: 'Atul', 2: 'Apple', 3: 'Laptop', 4: 'TV', 5: 'Music'}"
      ]
     },
     "execution_count": 229,
     "metadata": {},
     "output_type": "execute_result"
    }
   ],
   "source": [
    "dict1"
   ]
  },
  {
   "cell_type": "code",
   "execution_count": 231,
   "id": "5abec6a8-e320-42d4-a1ca-25bca5374940",
   "metadata": {},
   "outputs": [],
   "source": [
    "dict1[4]:\"dddd\"   "
   ]
  },
  {
   "cell_type": "code",
   "execution_count": 232,
   "id": "e65c1a0b-af1e-4ac1-83eb-5f82e72cdf48",
   "metadata": {},
   "outputs": [
    {
     "data": {
      "text/plain": [
       "{1: 'Atul', 2: 'Apple', 3: 'Laptop', 4: 'TV', 5: 'Music'}"
      ]
     },
     "execution_count": 232,
     "metadata": {},
     "output_type": "execute_result"
    }
   ],
   "source": [
    "dict1"
   ]
  },
  {
   "cell_type": "code",
   "execution_count": 233,
   "id": "1da0a1e9-c458-4934-b9d7-2729dcfaf599",
   "metadata": {},
   "outputs": [],
   "source": [
    "dict1[\"P\"]=\"ddd\""
   ]
  },
  {
   "cell_type": "code",
   "execution_count": 234,
   "id": "0c3f79fe-2538-4129-a4bf-b36beb66e212",
   "metadata": {},
   "outputs": [
    {
     "data": {
      "text/plain": [
       "{1: 'Atul', 2: 'Apple', 3: 'Laptop', 4: 'TV', 5: 'Music', 'P': 'ddd'}"
      ]
     },
     "execution_count": 234,
     "metadata": {},
     "output_type": "execute_result"
    }
   ],
   "source": [
    "dict1"
   ]
  },
  {
   "cell_type": "code",
   "execution_count": 235,
   "id": "c7f4c0b7-0544-4222-8118-4a8719975099",
   "metadata": {},
   "outputs": [],
   "source": [
    "dict1[\"P\"]=\"uuuu\""
   ]
  },
  {
   "cell_type": "code",
   "execution_count": 236,
   "id": "26c6dfcc-6a31-479c-9eca-6da58914c78c",
   "metadata": {},
   "outputs": [
    {
     "data": {
      "text/plain": [
       "{1: 'Atul', 2: 'Apple', 3: 'Laptop', 4: 'TV', 5: 'Music', 'P': 'uuuu'}"
      ]
     },
     "execution_count": 236,
     "metadata": {},
     "output_type": "execute_result"
    }
   ],
   "source": [
    "dict1"
   ]
  },
  {
   "cell_type": "markdown",
   "id": "6fab71da-6e87-4859-8797-500eb4648d28",
   "metadata": {},
   "source": [
    "# pop() function"
   ]
  },
  {
   "cell_type": "code",
   "execution_count": 238,
   "id": "4707c887-e977-4078-aa65-0d134d857706",
   "metadata": {},
   "outputs": [
    {
     "ename": "KeyError",
     "evalue": "1",
     "output_type": "error",
     "traceback": [
      "\u001b[1;31m----------------------------------------------------------------\u001b[0m",
      "\u001b[1;31mKeyError\u001b[0m                       Traceback (most recent call last)",
      "Cell \u001b[1;32mIn[238], line 1\u001b[0m\n\u001b[1;32m----> 1\u001b[0m \u001b[43mdict1\u001b[49m\u001b[38;5;241;43m.\u001b[39;49m\u001b[43mpop\u001b[49m\u001b[43m(\u001b[49m\u001b[38;5;241;43m1\u001b[39;49m\u001b[43m)\u001b[49m               \u001b[38;5;66;03m# pop specific element using key\u001b[39;00m\n",
      "\u001b[1;31mKeyError\u001b[0m: 1"
     ]
    }
   ],
   "source": [
    "dict1.pop(1)               # pop specific element using key"
   ]
  },
  {
   "cell_type": "code",
   "execution_count": 239,
   "id": "69087638-33a1-4df0-a60e-6c33c32f18cb",
   "metadata": {},
   "outputs": [
    {
     "data": {
      "text/plain": [
       "{2: 'Apple', 3: 'Laptop', 4: 'TV', 5: 'Music', 'P': 'uuuu'}"
      ]
     },
     "execution_count": 239,
     "metadata": {},
     "output_type": "execute_result"
    }
   ],
   "source": [
    "dict1"
   ]
  },
  {
   "cell_type": "code",
   "execution_count": 194,
   "id": "e68f7889-f875-4ab4-b29d-89f7a7c17fb1",
   "metadata": {},
   "outputs": [
    {
     "data": {
      "text/plain": [
       "('P', 'uuuu')"
      ]
     },
     "execution_count": 194,
     "metadata": {},
     "output_type": "execute_result"
    }
   ],
   "source": [
    "dict1.popitem()                # pop items() pop last element"
   ]
  },
  {
   "cell_type": "code",
   "execution_count": 195,
   "id": "1e8c20c0-73cd-4ffd-97e0-7de6e1fd3ea0",
   "metadata": {},
   "outputs": [
    {
     "data": {
      "text/plain": [
       "(5, 'Music')"
      ]
     },
     "execution_count": 195,
     "metadata": {},
     "output_type": "execute_result"
    }
   ],
   "source": [
    "dict1.popitem()"
   ]
  },
  {
   "cell_type": "code",
   "execution_count": 196,
   "id": "468a29c0-6b27-4709-879c-25e86266c41a",
   "metadata": {},
   "outputs": [],
   "source": [
    "del[dict1[2]]"
   ]
  },
  {
   "cell_type": "code",
   "execution_count": 197,
   "id": "1cc8ab74-c5e7-4eb5-a727-83d08b285dc7",
   "metadata": {},
   "outputs": [
    {
     "data": {
      "text/plain": [
       "{3: 'Laptop', 4: 'TV'}"
      ]
     },
     "execution_count": 197,
     "metadata": {},
     "output_type": "execute_result"
    }
   ],
   "source": [
    "dict1"
   ]
  },
  {
   "cell_type": "code",
   "execution_count": 198,
   "id": "daa9fb0f-f8a5-4edf-8454-517cb018a1b1",
   "metadata": {},
   "outputs": [],
   "source": [
    "del dict1"
   ]
  },
  {
   "cell_type": "code",
   "execution_count": 199,
   "id": "d18e8ece-c79b-4b32-81d4-0f17aa001442",
   "metadata": {},
   "outputs": [
    {
     "ename": "NameError",
     "evalue": "name 'dict1' is not defined",
     "output_type": "error",
     "traceback": [
      "\u001b[1;31m----------------------------------------------------------------\u001b[0m",
      "\u001b[1;31mNameError\u001b[0m                      Traceback (most recent call last)",
      "Cell \u001b[1;32mIn[199], line 1\u001b[0m\n\u001b[1;32m----> 1\u001b[0m \u001b[43mdict1\u001b[49m\n",
      "\u001b[1;31mNameError\u001b[0m: name 'dict1' is not defined"
     ]
    }
   ],
   "source": [
    "dict1"
   ]
  },
  {
   "cell_type": "code",
   "execution_count": 200,
   "id": "a6871a9d-b36a-4645-bcfa-d1edcbcbd169",
   "metadata": {},
   "outputs": [],
   "source": [
    "dict2 = {1:0}"
   ]
  },
  {
   "cell_type": "code",
   "execution_count": 201,
   "id": "913bf3a7-2c91-411e-ae9d-09b16c8f15ed",
   "metadata": {},
   "outputs": [],
   "source": [
    "dict3 = {2:False}"
   ]
  },
  {
   "cell_type": "markdown",
   "id": "4286b4ed-598b-4c6c-9db7-42fa11038372",
   "metadata": {},
   "source": [
    "# Update"
   ]
  },
  {
   "cell_type": "code",
   "execution_count": 202,
   "id": "e74a4386-cc04-4134-b413-94154aa7aa4d",
   "metadata": {},
   "outputs": [],
   "source": [
    "dict2.update(dict3)    # we are addicing two list in single "
   ]
  },
  {
   "cell_type": "code",
   "execution_count": 203,
   "id": "2f02627a-f60d-4603-bd88-34b3643d4438",
   "metadata": {},
   "outputs": [
    {
     "data": {
      "text/plain": [
       "{1: 0, 2: False}"
      ]
     },
     "execution_count": 203,
     "metadata": {},
     "output_type": "execute_result"
    }
   ],
   "source": [
    "dict2"
   ]
  },
  {
   "cell_type": "code",
   "execution_count": 204,
   "id": "3696c614-0bfc-4eb8-bde0-e30cfbe3ea81",
   "metadata": {},
   "outputs": [
    {
     "data": {
      "text/plain": [
       "{1: 0, 2: False}"
      ]
     },
     "execution_count": 204,
     "metadata": {},
     "output_type": "execute_result"
    }
   ],
   "source": [
    "dict2"
   ]
  },
  {
   "cell_type": "markdown",
   "id": "a4d4cdbd-e576-49ba-97dc-fd78a69552e0",
   "metadata": {},
   "source": [
    "# dict using Loop"
   ]
  },
  {
   "cell_type": "code",
   "execution_count": 205,
   "id": "2964eb24-09a4-4804-964c-301b6fa42488",
   "metadata": {},
   "outputs": [
    {
     "name": "stdout",
     "output_type": "stream",
     "text": [
      "1 0\n",
      "2 False\n"
     ]
    }
   ],
   "source": [
    "for i in dict2:            # using loop \n",
    "    print(i,dict2[i])    "
   ]
  },
  {
   "cell_type": "code",
   "execution_count": 240,
   "id": "55e3bc42-a94a-4cef-a21c-253c4cead25f",
   "metadata": {},
   "outputs": [],
   "source": [
    "# print the count of number"
   ]
  },
  {
   "cell_type": "code",
   "execution_count": 243,
   "id": "9fae8ab3-4bbb-4ce6-bc1e-bd82acbcd359",
   "metadata": {},
   "outputs": [
    {
     "name": "stdout",
     "output_type": "stream",
     "text": [
      "{1: 2, 2: 2, 3: 3, 4: 3, 5: 1}\n"
     ]
    }
   ],
   "source": [
    "list1 = [1,2,3,4,1,2,3,3,4,4,5]\n",
    "count = {}\n",
    "for i in list1:\n",
    "    if i in count:\n",
    "        count[i] +=1\n",
    "    else:\n",
    "        count[i] = 1\n",
    "print(count)        "
   ]
  },
  {
   "cell_type": "markdown",
   "id": "cfa8575e-97bf-4740-9182-bbc1b74b51f9",
   "metadata": {},
   "source": [
    "# MIN , MAX and LEN Function"
   ]
  },
  {
   "cell_type": "code",
   "execution_count": 247,
   "id": "cfbdf985-a0a2-49f6-af85-21781e96dcd0",
   "metadata": {},
   "outputs": [
    {
     "name": "stdout",
     "output_type": "stream",
     "text": [
      "5\n"
     ]
    }
   ],
   "source": [
    "dictonary = {1:9,2:67,3:78,4:10,6:33}         # we can use fun on number\n",
    "print(len(dictonary))"
   ]
  },
  {
   "cell_type": "code",
   "execution_count": 248,
   "id": "8f37c3ca-f81e-409b-b7c5-b7edb603d0ad",
   "metadata": {},
   "outputs": [
    {
     "data": {
      "text/plain": [
       "5"
      ]
     },
     "execution_count": 248,
     "metadata": {},
     "output_type": "execute_result"
    }
   ],
   "source": [
    "len(dictonary)"
   ]
  },
  {
   "cell_type": "code",
   "execution_count": 249,
   "id": "f0e91ac7-cf46-4470-b6ca-f76d80ffc52e",
   "metadata": {},
   "outputs": [
    {
     "data": {
      "text/plain": [
       "1"
      ]
     },
     "execution_count": 249,
     "metadata": {},
     "output_type": "execute_result"
    }
   ],
   "source": [
    "min(dictonary)"
   ]
  },
  {
   "cell_type": "code",
   "execution_count": 250,
   "id": "e0b1cb6b-d127-45a1-b137-407bb75bae6d",
   "metadata": {},
   "outputs": [
    {
     "data": {
      "text/plain": [
       "6"
      ]
     },
     "execution_count": 250,
     "metadata": {},
     "output_type": "execute_result"
    }
   ],
   "source": [
    "max(dictonary)"
   ]
  },
  {
   "cell_type": "code",
   "execution_count": 255,
   "id": "b5ca99e3-b9e3-450b-aac0-40444aa69dc5",
   "metadata": {},
   "outputs": [],
   "source": [
    "dictonary1 = {'p':\"pune\",'A':\"africia\",'c':\"china\"}                 # we can use fun on string character"
   ]
  },
  {
   "cell_type": "code",
   "execution_count": 256,
   "id": "412132ed-4fcf-4437-97ef-993ae41f11eb",
   "metadata": {},
   "outputs": [
    {
     "data": {
      "text/plain": [
       "'A'"
      ]
     },
     "execution_count": 256,
     "metadata": {},
     "output_type": "execute_result"
    }
   ],
   "source": [
    "min(dictonary1)"
   ]
  },
  {
   "cell_type": "code",
   "execution_count": 257,
   "id": "e24db52b-881e-4f41-b2ef-a124a85cfe4a",
   "metadata": {},
   "outputs": [
    {
     "data": {
      "text/plain": [
       "'p'"
      ]
     },
     "execution_count": 257,
     "metadata": {},
     "output_type": "execute_result"
    }
   ],
   "source": [
    "max(dictonary1)"
   ]
  }
 ],
 "metadata": {
  "kernelspec": {
   "display_name": "Python 3 (ipykernel)",
   "language": "python",
   "name": "python3"
  },
  "language_info": {
   "codemirror_mode": {
    "name": "ipython",
    "version": 3
   },
   "file_extension": ".py",
   "mimetype": "text/x-python",
   "name": "python",
   "nbconvert_exporter": "python",
   "pygments_lexer": "ipython3",
   "version": "3.12.4"
  }
 },
 "nbformat": 4,
 "nbformat_minor": 5
}
