{
 "cells": [
  {
   "cell_type": "markdown",
   "id": "5df9f87c-914b-48c6-adce-0ca82a883d9a",
   "metadata": {},
   "source": [
    "# list Data structure"
   ]
  },
  {
   "cell_type": "code",
   "execution_count": 2,
   "id": "125a9b3a-70d4-473a-86ea-70939c72acb1",
   "metadata": {},
   "outputs": [
    {
     "name": "stdout",
     "output_type": "stream",
     "text": [
      "[]\n"
     ]
    }
   ],
   "source": [
    "list1 = []    # we can deefine list as empty\n",
    "print(list1)"
   ]
  },
  {
   "cell_type": "code",
   "execution_count": 4,
   "id": "9f8180a4-6f1c-4d74-aea7-ed2aa9c4a3eb",
   "metadata": {},
   "outputs": [],
   "source": [
    "list1.append(10)  # we append/add the number in list"
   ]
  },
  {
   "cell_type": "code",
   "execution_count": 5,
   "id": "18c52c41-ddae-4969-b444-938e2274e033",
   "metadata": {},
   "outputs": [
    {
     "data": {
      "text/plain": [
       "[10]"
      ]
     },
     "execution_count": 5,
     "metadata": {},
     "output_type": "execute_result"
    }
   ],
   "source": [
    "list1"
   ]
  },
  {
   "cell_type": "code",
   "execution_count": 7,
   "id": "21829a9a-c01a-4e95-a975-e8ffa06d13f7",
   "metadata": {},
   "outputs": [
    {
     "ename": "TypeError",
     "evalue": "list.append() takes exactly one argument (2 given)",
     "output_type": "error",
     "traceback": [
      "\u001b[1;31m---------------------------------------------------------------------------\u001b[0m",
      "\u001b[1;31mTypeError\u001b[0m                                 Traceback (most recent call last)",
      "Cell \u001b[1;32mIn[7], line 1\u001b[0m\n\u001b[1;32m----> 1\u001b[0m \u001b[43mlist1\u001b[49m\u001b[38;5;241;43m.\u001b[39;49m\u001b[43mappend\u001b[49m\u001b[43m(\u001b[49m\u001b[38;5;241;43m10\u001b[39;49m\u001b[43m,\u001b[49m\u001b[38;5;241;43m20\u001b[39;49m\u001b[43m)\u001b[49m   \u001b[38;5;66;03m#we cant append more than one value atte time\u001b[39;00m\n",
      "\u001b[1;31mTypeError\u001b[0m: list.append() takes exactly one argument (2 given)"
     ]
    }
   ],
   "source": [
    "list1.append(10,20)   #we cant append more than one value atte time"
   ]
  },
  {
   "cell_type": "code",
   "execution_count": 8,
   "id": "8db19d0a-efa4-42e4-b9b4-59baf5cc9ad4",
   "metadata": {},
   "outputs": [],
   "source": [
    "list1.append(10)\n",
    "list1.append(20)"
   ]
  },
  {
   "cell_type": "code",
   "execution_count": 10,
   "id": "3252ee00-8e84-48fd-9db6-28c8a820a0d7",
   "metadata": {},
   "outputs": [
    {
     "data": {
      "text/plain": [
       "[10, 10, 20]"
      ]
     },
     "execution_count": 10,
     "metadata": {},
     "output_type": "execute_result"
    }
   ],
   "source": [
    "list1    # duplicate element are allowed in the list"
   ]
  },
  {
   "cell_type": "code",
   "execution_count": 12,
   "id": "de6aca95-0f0c-460c-882c-96c5e8d4b902",
   "metadata": {},
   "outputs": [
    {
     "data": {
      "text/plain": [
       "3"
      ]
     },
     "execution_count": 12,
     "metadata": {},
     "output_type": "execute_result"
    }
   ],
   "source": [
    "len(list1)    # list is growable"
   ]
  },
  {
   "cell_type": "code",
   "execution_count": 14,
   "id": "a28bcc58-f311-4050-b663-21eb9986d8de",
   "metadata": {},
   "outputs": [
    {
     "data": {
      "text/plain": [
       "[10, 10, 20]"
      ]
     },
     "execution_count": 14,
     "metadata": {},
     "output_type": "execute_result"
    }
   ],
   "source": [
    "list1   # duplicate value are allowed"
   ]
  },
  {
   "cell_type": "code",
   "execution_count": 16,
   "id": "2d5b144d-b6fe-4a27-b60f-d42d39b12f42",
   "metadata": {},
   "outputs": [],
   "source": [
    "list1.append(90)\n",
    "list1.append(34.90)\n",
    "list1.append(True)\n",
    "list1.append(\"Atul\")\n",
    "list1.append('1+2j')\n"
   ]
  },
  {
   "cell_type": "code",
   "execution_count": 17,
   "id": "f2c154da-df9b-43f4-85e1-4aa59c6a7f45",
   "metadata": {},
   "outputs": [],
   "source": [
    "list1.append([1,2,3])"
   ]
  },
  {
   "cell_type": "code",
   "execution_count": 20,
   "id": "7d489b58-b99a-4ae3-8179-15ced3e8394f",
   "metadata": {},
   "outputs": [
    {
     "name": "stdout",
     "output_type": "stream",
     "text": [
      "[10, 10, 20, 90, 34.9, True, 'Atul', '1+2j', 90, 34.9, True, 'Atul', '1+2j', [1, 2, 3]]\n"
     ]
    }
   ],
   "source": [
    "print(list1)   # add list in the list we say nested list"
   ]
  },
  {
   "cell_type": "code",
   "execution_count": 24,
   "id": "c3285eaa-8c4a-44c7-8d08-bfec5d71d54a",
   "metadata": {},
   "outputs": [],
   "source": [
    "list2 = list1.copy()   # copy method use for copy one list to another list"
   ]
  },
  {
   "cell_type": "code",
   "execution_count": 25,
   "id": "8330348e-11ed-46b8-898b-029f02594c9e",
   "metadata": {},
   "outputs": [
    {
     "name": "stdout",
     "output_type": "stream",
     "text": [
      "[10, 10, 20, 90, 34.9, True, 'Atul', '1+2j', 90, 34.9, True, 'Atul', '1+2j', [1, 2, 3]]\n"
     ]
    }
   ],
   "source": [
    "print(list2)"
   ]
  },
  {
   "cell_type": "code",
   "execution_count": 23,
   "id": "1905e9a2-ff97-4dd4-9b83-48095f780412",
   "metadata": {},
   "outputs": [
    {
     "data": {
      "text/plain": [
       "True"
      ]
     },
     "execution_count": 23,
     "metadata": {},
     "output_type": "execute_result"
    }
   ],
   "source": [
    "list1 == list2"
   ]
  },
  {
   "cell_type": "code",
   "execution_count": 26,
   "id": "2f51a744-9ed5-40b9-a3e4-935f21c69fc6",
   "metadata": {},
   "outputs": [
    {
     "name": "stdout",
     "output_type": "stream",
     "text": [
      "3067920575296\n"
     ]
    }
   ],
   "source": [
    "print(id(list1))"
   ]
  },
  {
   "cell_type": "code",
   "execution_count": 27,
   "id": "37a00b43-0731-44b4-9a2b-d065de9f8c2e",
   "metadata": {},
   "outputs": [
    {
     "name": "stdout",
     "output_type": "stream",
     "text": [
      "3067926412096\n"
     ]
    }
   ],
   "source": [
    "print(id(list2))  # the id of data structure is different"
   ]
  },
  {
   "cell_type": "code",
   "execution_count": 28,
   "id": "5a167719-35e8-406a-a62e-06e39b0fb546",
   "metadata": {},
   "outputs": [
    {
     "name": "stdout",
     "output_type": "stream",
     "text": [
      "140736681278168\n",
      "140736681278168\n"
     ]
    }
   ],
   "source": [
    "A = 10\n",
    "B = 10\n",
    "print(id(A))\n",
    "print(id(B))   # in data type they store same address if the value is same"
   ]
  },
  {
   "cell_type": "code",
   "execution_count": 29,
   "id": "2ef97978-7b86-47c9-a7fd-9acd24b704b5",
   "metadata": {},
   "outputs": [
    {
     "name": "stdout",
     "output_type": "stream",
     "text": [
      "[10, 10, 20, 90, 34.9, True, 'Atul', '1+2j', 90, 34.9, True, 'Atul', '1+2j', [1, 2, 3]]\n"
     ]
    }
   ],
   "source": [
    "print(list2)"
   ]
  },
  {
   "cell_type": "code",
   "execution_count": 30,
   "id": "428d96be-73ff-4f8c-a79d-0ecfc8cbc524",
   "metadata": {},
   "outputs": [],
   "source": [
    "list2.remove(10)"
   ]
  },
  {
   "cell_type": "code",
   "execution_count": 32,
   "id": "4f746257-525c-4fb8-91a3-d38e44d19177",
   "metadata": {},
   "outputs": [
    {
     "name": "stdout",
     "output_type": "stream",
     "text": [
      "[10, 20, 90, 34.9, True, 'Atul', '1+2j', 90, 34.9, True, 'Atul', '1+2j', [1, 2, 3]]\n"
     ]
    }
   ],
   "source": [
    "print(list2)   # remove element from forword"
   ]
  },
  {
   "cell_type": "code",
   "execution_count": null,
   "id": "6e92a7a8-de51-420f-a26b-6ec523fe4612",
   "metadata": {},
   "outputs": [],
   "source": [
    "=========================================List Indexing And Slicing==================================="
   ]
  },
  {
   "cell_type": "code",
   "execution_count": 33,
   "id": "0fd5c5ad-08ef-441f-a74b-17af0d17b893",
   "metadata": {},
   "outputs": [],
   "source": [
    "list3 = [10,20,30,40,50]"
   ]
  },
  {
   "cell_type": "code",
   "execution_count": 34,
   "id": "64b1fcb0-d781-4560-b7f7-b48b0f062ca9",
   "metadata": {},
   "outputs": [
    {
     "data": {
      "text/plain": [
       "10"
      ]
     },
     "execution_count": 34,
     "metadata": {},
     "output_type": "execute_result"
    }
   ],
   "source": [
    "list3[0]"
   ]
  },
  {
   "cell_type": "code",
   "execution_count": 35,
   "id": "1f1091b1-2887-4a66-93b7-d5b40f879bd6",
   "metadata": {},
   "outputs": [
    {
     "data": {
      "text/plain": [
       "list[1]"
      ]
     },
     "execution_count": 35,
     "metadata": {},
     "output_type": "execute_result"
    }
   ],
   "source": [
    "list[1]"
   ]
  },
  {
   "cell_type": "code",
   "execution_count": 37,
   "id": "5216a3b6-28b2-4f0f-b1b0-59af4ab671c7",
   "metadata": {},
   "outputs": [
    {
     "data": {
      "text/plain": [
       "50"
      ]
     },
     "execution_count": 37,
     "metadata": {},
     "output_type": "execute_result"
    }
   ],
   "source": [
    "list3[-1]"
   ]
  },
  {
   "cell_type": "code",
   "execution_count": 38,
   "id": "3d9b674a-4e72-433b-a394-a93ac1e63277",
   "metadata": {},
   "outputs": [
    {
     "data": {
      "text/plain": [
       "40"
      ]
     },
     "execution_count": 38,
     "metadata": {},
     "output_type": "execute_result"
    }
   ],
   "source": [
    "list3[-2]"
   ]
  },
  {
   "cell_type": "code",
   "execution_count": null,
   "id": "a6673ade-c423-45e1-b1cb-db1a54ada835",
   "metadata": {},
   "outputs": [],
   "source": [
    "=================================================List slicing=============================="
   ]
  },
  {
   "cell_type": "code",
   "execution_count": 39,
   "id": "3c0bed08-0542-4753-8c33-095a3dedf70b",
   "metadata": {},
   "outputs": [
    {
     "data": {
      "text/plain": [
       "[10, 20, 30, 40, 50]"
      ]
     },
     "execution_count": 39,
     "metadata": {},
     "output_type": "execute_result"
    }
   ],
   "source": [
    "list3"
   ]
  },
  {
   "cell_type": "code",
   "execution_count": 40,
   "id": "55b8f126-17db-4f33-b122-de70dd94beeb",
   "metadata": {},
   "outputs": [
    {
     "data": {
      "text/plain": [
       "[10, 20, 30, 40, 50]"
      ]
     },
     "execution_count": 40,
     "metadata": {},
     "output_type": "execute_result"
    }
   ],
   "source": [
    "list3[0:5]   # forward slicing"
   ]
  },
  {
   "cell_type": "code",
   "execution_count": 49,
   "id": "4fa13cdd-8f23-4f8e-822e-b2412ab5af94",
   "metadata": {},
   "outputs": [
    {
     "data": {
      "text/plain": [
       "[10, 20, 30, 40, 50]"
      ]
     },
     "execution_count": 49,
     "metadata": {},
     "output_type": "execute_result"
    }
   ],
   "source": [
    "list3[-5:]"
   ]
  },
  {
   "cell_type": "code",
   "execution_count": 57,
   "id": "febd6c08-8a6b-4daf-8e63-f418764fb636",
   "metadata": {},
   "outputs": [
    {
     "name": "stdout",
     "output_type": "stream",
     "text": [
      "[20, 30, 40, 50]\n"
     ]
    }
   ],
   "source": [
    "print(list3[-4:])"
   ]
  },
  {
   "cell_type": "code",
   "execution_count": 58,
   "id": "5cdf1e8c-a6e3-4d94-ad2e-f399096a164f",
   "metadata": {},
   "outputs": [],
   "source": [
    "# list3[start:stop:step]"
   ]
  },
  {
   "cell_type": "code",
   "execution_count": null,
   "id": "573241be-3c8c-4717-9abc-a5b5d0021f1d",
   "metadata": {},
   "outputs": [],
   "source": [
    "===================================================step slicing============================================"
   ]
  },
  {
   "cell_type": "code",
   "execution_count": 60,
   "id": "a743e17f-f885-4910-8305-a9fa6aa37193",
   "metadata": {},
   "outputs": [
    {
     "data": {
      "text/plain": [
       "[1, 2, 3, 4, 5, 6, 7, 8, 9, 10]"
      ]
     },
     "execution_count": 60,
     "metadata": {},
     "output_type": "execute_result"
    }
   ],
   "source": [
    "step_index = [1,2,3,4,5,6,7,8,9,10]\n",
    "step_index[0:10:1]"
   ]
  },
  {
   "cell_type": "code",
   "execution_count": 71,
   "id": "23df4432-5e6c-4844-b6e3-41af013cb683",
   "metadata": {},
   "outputs": [
    {
     "data": {
      "text/plain": [
       "[1, 3, 5, 7, 9]"
      ]
     },
     "execution_count": 71,
     "metadata": {},
     "output_type": "execute_result"
    }
   ],
   "source": [
    "step_index[0:10:2]"
   ]
  },
  {
   "cell_type": "code",
   "execution_count": 69,
   "id": "9d44e99c-5f96-4c28-8b30-234d5697dbad",
   "metadata": {},
   "outputs": [
    {
     "name": "stdout",
     "output_type": "stream",
     "text": [
      "[7, 6, 5, 4, 3, 2]\n"
     ]
    }
   ],
   "source": [
    "print(step_index[-4:0:-1])"
   ]
  },
  {
   "cell_type": "code",
   "execution_count": 95,
   "id": "c194ff58-ee8c-4fff-bc90-6612a566c31a",
   "metadata": {},
   "outputs": [
    {
     "name": "stdout",
     "output_type": "stream",
     "text": [
      "[1, 2, 3, 4, 5, 6, 7, 8, 9]\n"
     ]
    }
   ],
   "source": [
    "step_index = [1, 2, 3, 4, 5, 6, 7, 8, 9, 10]\n",
    "print(step_index[-10:-1])"
   ]
  },
  {
   "cell_type": "code",
   "execution_count": 96,
   "id": "060d0df2-0861-4078-9f2a-76a5bddcc892",
   "metadata": {},
   "outputs": [
    {
     "name": "stdout",
     "output_type": "stream",
     "text": [
      "10\n"
     ]
    }
   ],
   "source": [
    "print(step_index[-1])"
   ]
  },
  {
   "cell_type": "code",
   "execution_count": null,
   "id": "99f8ead2-bdbb-4566-880c-0957a30febcc",
   "metadata": {},
   "outputs": [],
   "source": [
    "=======================================list_Function .append()======================================================"
   ]
  },
  {
   "cell_type": "code",
   "execution_count": 1,
   "id": "9801e4b1",
   "metadata": {},
   "outputs": [],
   "source": [
    "new_list = []"
   ]
  },
  {
   "cell_type": "code",
   "execution_count": 2,
   "id": "c2fb3021",
   "metadata": {},
   "outputs": [
    {
     "data": {
      "text/plain": [
       "[]"
      ]
     },
     "execution_count": 2,
     "metadata": {},
     "output_type": "execute_result"
    }
   ],
   "source": [
    "new_list"
   ]
  },
  {
   "cell_type": "code",
   "execution_count": 3,
   "id": "e9922a6a",
   "metadata": {},
   "outputs": [],
   "source": [
    "new_list.append(10)   # they append number at end of the list"
   ]
  },
  {
   "cell_type": "code",
   "execution_count": 5,
   "id": "bec61494",
   "metadata": {},
   "outputs": [],
   "source": [
    "new_list.append(20)\n",
    "new_list.append(58)"
   ]
  },
  {
   "cell_type": "code",
   "execution_count": 6,
   "id": "c15a2fba",
   "metadata": {},
   "outputs": [
    {
     "data": {
      "text/plain": [
       "[10, 20, 58]"
      ]
     },
     "execution_count": 6,
     "metadata": {},
     "output_type": "execute_result"
    }
   ],
   "source": [
    "new_list"
   ]
  },
  {
   "cell_type": "code",
   "execution_count": null,
   "id": "ff41bdde",
   "metadata": {},
   "outputs": [],
   "source": [
    "================================ list_funtion .copy()================================================="
   ]
  },
  {
   "cell_type": "code",
   "execution_count": 7,
   "id": "8d9dc513",
   "metadata": {},
   "outputs": [],
   "source": [
    "LIST = new_list.copy() # WE USE COPY FUN FOR COPY ONE LIST TO ANOTHER"
   ]
  },
  {
   "cell_type": "code",
   "execution_count": 9,
   "id": "700df4db",
   "metadata": {},
   "outputs": [
    {
     "data": {
      "text/plain": [
       "[10, 20, 58]"
      ]
     },
     "execution_count": 9,
     "metadata": {},
     "output_type": "execute_result"
    }
   ],
   "source": [
    "LIST"
   ]
  },
  {
   "cell_type": "code",
   "execution_count": null,
   "id": "bdc6f53c",
   "metadata": {},
   "outputs": [],
   "source": [
    "===================================Llist_function .reverse================================================"
   ]
  },
  {
   "cell_type": "code",
   "execution_count": 10,
   "id": "8f8cec03",
   "metadata": {},
   "outputs": [],
   "source": [
    "LIST.reverse()  # list reverse funtion"
   ]
  },
  {
   "cell_type": "code",
   "execution_count": 11,
   "id": "e815e6b5",
   "metadata": {},
   "outputs": [
    {
     "data": {
      "text/plain": [
       "[58, 20, 10]"
      ]
     },
     "execution_count": 11,
     "metadata": {},
     "output_type": "execute_result"
    }
   ],
   "source": [
    "LIST"
   ]
  },
  {
   "cell_type": "code",
   "execution_count": null,
   "id": "5c770208",
   "metadata": {},
   "outputs": [],
   "source": [
    "=========================================list_function .remove()============================================"
   ]
  },
  {
   "cell_type": "code",
   "execution_count": 12,
   "id": "e83c2e89",
   "metadata": {},
   "outputs": [],
   "source": [
    "LIST.remove(10)"
   ]
  },
  {
   "cell_type": "code",
   "execution_count": 13,
   "id": "e0937dfb",
   "metadata": {},
   "outputs": [
    {
     "data": {
      "text/plain": [
       "[58, 20]"
      ]
     },
     "execution_count": 13,
     "metadata": {},
     "output_type": "execute_result"
    }
   ],
   "source": [
    "LIST"
   ]
  },
  {
   "cell_type": "code",
   "execution_count": 15,
   "id": "338067b3",
   "metadata": {},
   "outputs": [],
   "source": [
    "LIST.append(10)\n",
    "LIST.append(90)\n",
    "LIST.append(45)"
   ]
  },
  {
   "cell_type": "code",
   "execution_count": 16,
   "id": "64bccc2c",
   "metadata": {},
   "outputs": [
    {
     "data": {
      "text/plain": [
       "[58, 20, 10, 10, 90, 45]"
      ]
     },
     "execution_count": 16,
     "metadata": {},
     "output_type": "execute_result"
    }
   ],
   "source": [
    "LIST"
   ]
  },
  {
   "cell_type": "code",
   "execution_count": null,
   "id": "a02c5006",
   "metadata": {},
   "outputs": [],
   "source": [
    "LIST.remove(10)   # remove the first occurance number"
   ]
  },
  {
   "cell_type": "code",
   "execution_count": 19,
   "id": "8fe5ded6",
   "metadata": {},
   "outputs": [
    {
     "data": {
      "text/plain": [
       "[58, 20, 10, 90, 45]"
      ]
     },
     "execution_count": 19,
     "metadata": {},
     "output_type": "execute_result"
    }
   ],
   "source": [
    "LIST"
   ]
  },
  {
   "cell_type": "code",
   "execution_count": null,
   "id": "04981f45",
   "metadata": {},
   "outputs": [],
   "source": [
    "============================list_function .insert()======================================"
   ]
  },
  {
   "cell_type": "code",
   "execution_count": null,
   "id": "00bd9f4e",
   "metadata": {},
   "outputs": [],
   "source": [
    "LIST.insert(1,500)   # insert number in specific position with required two argument "
   ]
  },
  {
   "cell_type": "code",
   "execution_count": 32,
   "id": "4f4bdf7c",
   "metadata": {},
   "outputs": [
    {
     "data": {
      "text/plain": [
       "[100, 500, 58, 100, 20, 10, 90, 45, 100, 100]"
      ]
     },
     "execution_count": 32,
     "metadata": {},
     "output_type": "execute_result"
    }
   ],
   "source": [
    "LIST"
   ]
  },
  {
   "cell_type": "code",
   "execution_count": null,
   "id": "457fb6b0",
   "metadata": {},
   "outputs": [],
   "source": []
  }
 ],
 "metadata": {
  "kernelspec": {
   "display_name": "Python 3",
   "language": "python",
   "name": "python3"
  },
  "language_info": {
   "codemirror_mode": {
    "name": "ipython",
    "version": 3
   },
   "file_extension": ".py",
   "mimetype": "text/x-python",
   "name": "python",
   "nbconvert_exporter": "python",
   "pygments_lexer": "ipython3",
   "version": "3.12.4"
  }
 },
 "nbformat": 4,
 "nbformat_minor": 5
}
