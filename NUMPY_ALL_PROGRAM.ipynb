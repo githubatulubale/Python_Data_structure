{
 "cells": [
  {
   "cell_type": "markdown",
   "id": "72fe83fd-f1e0-4708-a663-380a474f0159",
   "metadata": {},
   "source": [
    "# Numpy"
   ]
  },
  {
   "cell_type": "code",
   "execution_count": 1,
   "id": "4fd9f529-5f9a-47ec-93e3-ad5a42a35096",
   "metadata": {},
   "outputs": [],
   "source": [
    "import numpy as np     # import numpy"
   ]
  },
  {
   "cell_type": "code",
   "execution_count": 3,
   "id": "23c5dbbb-f9df-44b8-ac5b-f0cd5beccd6a",
   "metadata": {},
   "outputs": [
    {
     "data": {
      "text/plain": [
       "'1.26.4'"
      ]
     },
     "execution_count": 3,
     "metadata": {},
     "output_type": "execute_result"
    }
   ],
   "source": [
    "np.__version__         # check version"
   ]
  },
  {
   "cell_type": "code",
   "execution_count": 4,
   "id": "65de694e-39fd-4d71-ac75-a3f7b9d0f7cc",
   "metadata": {},
   "outputs": [
    {
     "data": {
      "text/plain": [
       "'3.12.4 (tags/v3.12.4:8e8a4ba, Jun  6 2024, 19:30:16) [MSC v.1940 64 bit (AMD64)]'"
      ]
     },
     "execution_count": 4,
     "metadata": {},
     "output_type": "execute_result"
    }
   ],
   "source": [
    "import sys            # check python version\n",
    "sys.version"
   ]
  },
  {
   "cell_type": "markdown",
   "id": "db6adeb3-5ce5-41fd-b3c9-eb1f9d1d6d13",
   "metadata": {},
   "source": [
    "# creating Array"
   ]
  },
  {
   "cell_type": "code",
   "execution_count": 5,
   "id": "075afdb6-beb3-44c5-a363-71c50519694d",
   "metadata": {},
   "outputs": [
    {
     "name": "stdout",
     "output_type": "stream",
     "text": [
      "[ 1  2  3  4  5  6  7  8  9 10]\n"
     ]
    }
   ],
   "source": [
    "Array =np.array([1,2,3,4,5,6,7,8,9,10])             # creating np.array\n",
    "print(Array)"
   ]
  },
  {
   "cell_type": "code",
   "execution_count": 8,
   "id": "b73322de-73d7-4327-99ae-696b71bc8805",
   "metadata": {},
   "outputs": [
    {
     "name": "stdout",
     "output_type": "stream",
     "text": [
      "1\n"
     ]
    }
   ],
   "source": [
    "print(Array.ndim)"
   ]
  },
  {
   "cell_type": "code",
   "execution_count": 9,
   "id": "b5976ac5-9196-4152-bd35-8da30cdde08f",
   "metadata": {},
   "outputs": [
    {
     "name": "stdout",
     "output_type": "stream",
     "text": [
      "[[11 12 13 14 15]\n",
      " [16 17 18 19 20]]\n"
     ]
    }
   ],
   "source": [
    "Array2 = np.array([[11,12,13,14,15],[16,17,18,19,20]])    #creating 2-D array \n",
    "print(Array2)"
   ]
  },
  {
   "cell_type": "code",
   "execution_count": 11,
   "id": "62900b25-0638-4cd9-bf36-1c0a6942c096",
   "metadata": {},
   "outputs": [
    {
     "name": "stdout",
     "output_type": "stream",
     "text": [
      "2\n"
     ]
    }
   ],
   "source": [
    "print(Array2.ndim)"
   ]
  },
  {
   "cell_type": "code",
   "execution_count": 13,
   "id": "ca11ed18-d573-4b64-8bdc-8f0fef41f524",
   "metadata": {},
   "outputs": [
    {
     "name": "stdout",
     "output_type": "stream",
     "text": [
      "3\n"
     ]
    }
   ],
   "source": [
    "Array3 = np.array([[[21,22,23,],[24,25,26]],[[27,28,29],[30,31,32]]])            # create 3 dim array\n",
    "print(Array3.ndim)"
   ]
  },
  {
   "cell_type": "code",
   "execution_count": 16,
   "id": "96a991b4-7cb0-4bea-ab93-a933a330f66f",
   "metadata": {},
   "outputs": [
    {
     "name": "stdout",
     "output_type": "stream",
     "text": [
      "[[[[[100 200 300 400 500]]]]]\n"
     ]
    }
   ],
   "source": [
    "ndarray = np.array([100,200,300,400,500],ndmin=5)            # created 5 dim array\n",
    "print(ndarray)"
   ]
  },
  {
   "cell_type": "markdown",
   "id": "cff5d184-af38-47c9-98f3-b450cbd6bd10",
   "metadata": {},
   "source": [
    "# Arange function"
   ]
  },
  {
   "cell_type": "code",
   "execution_count": 17,
   "id": "cb839735-a805-4416-87be-1f465a17acb8",
   "metadata": {},
   "outputs": [
    {
     "data": {
      "text/plain": [
       "range(0, 5)"
      ]
     },
     "execution_count": 17,
     "metadata": {},
     "output_type": "execute_result"
    }
   ],
   "source": [
    "range(5)"
   ]
  },
  {
   "cell_type": "code",
   "execution_count": 18,
   "id": "6ca87762-87d7-4b2b-a7dd-8965bb8a8124",
   "metadata": {},
   "outputs": [
    {
     "data": {
      "text/plain": [
       "range(10, 20)"
      ]
     },
     "execution_count": 18,
     "metadata": {},
     "output_type": "execute_result"
    }
   ],
   "source": [
    "range(10,20)"
   ]
  },
  {
   "cell_type": "code",
   "execution_count": 19,
   "id": "3286fd84-3d8a-4476-9bc3-81293f596948",
   "metadata": {},
   "outputs": [
    {
     "data": {
      "text/plain": [
       "array([0, 1, 2, 3, 4, 5, 6, 7, 8, 9])"
      ]
     },
     "execution_count": 19,
     "metadata": {},
     "output_type": "execute_result"
    }
   ],
   "source": [
    "np.arange(10)         # print within value between 0 to 10"
   ]
  },
  {
   "cell_type": "code",
   "execution_count": 20,
   "id": "8ca87075-986f-47b3-afd3-05cece4f7c0e",
   "metadata": {},
   "outputs": [
    {
     "data": {
      "text/plain": [
       "array([10, 11, 12, 13, 14, 15, 16, 17, 18, 19])"
      ]
     },
     "execution_count": 20,
     "metadata": {},
     "output_type": "execute_result"
    }
   ],
   "source": [
    "np.arange(10,20)"
   ]
  },
  {
   "cell_type": "code",
   "execution_count": 21,
   "id": "f038d475-d2d2-45c2-9ee7-841a394622d5",
   "metadata": {},
   "outputs": [
    {
     "data": {
      "text/plain": [
       "array([-20, -19, -18, -17, -16, -15, -14, -13, -12, -11, -10,  -9,  -8,\n",
       "        -7,  -6,  -5,  -4,  -3,  -2,  -1,   0,   1,   2,   3,   4,   5,\n",
       "         6,   7,   8,   9])"
      ]
     },
     "execution_count": 21,
     "metadata": {},
     "output_type": "execute_result"
    }
   ],
   "source": [
    "np.arange(-20,10)       # print negative value"
   ]
  },
  {
   "cell_type": "code",
   "execution_count": 22,
   "id": "6f93a12a-a0ff-4aeb-9d09-92ba26aebc5d",
   "metadata": {},
   "outputs": [
    {
     "data": {
      "text/plain": [
       "array([0., 1., 2., 3., 4.])"
      ]
     },
     "execution_count": 22,
     "metadata": {},
     "output_type": "execute_result"
    }
   ],
   "source": [
    "np.arange(5.0)     # floating value"
   ]
  },
  {
   "cell_type": "code",
   "execution_count": 23,
   "id": "3cec0653-1d35-48df-84a5-f738d701f69a",
   "metadata": {},
   "outputs": [
    {
     "data": {
      "text/plain": [
       "array([], dtype=int32)"
      ]
     },
     "execution_count": 23,
     "metadata": {},
     "output_type": "execute_result"
    }
   ],
   "source": [
    "np.arange(20,10)         # 1st no < 2nd no"
   ]
  },
  {
   "cell_type": "code",
   "execution_count": 24,
   "id": "c8e40ade-7841-48c4-875b-a7230cc09030",
   "metadata": {},
   "outputs": [
    {
     "ename": "TypeError",
     "evalue": "arange() requires stop to be specified.",
     "output_type": "error",
     "traceback": [
      "\u001b[1;31m---------------------------------------------------------------------------\u001b[0m",
      "\u001b[1;31mTypeError\u001b[0m                                 Traceback (most recent call last)",
      "Cell \u001b[1;32mIn[24], line 1\u001b[0m\n\u001b[1;32m----> 1\u001b[0m \u001b[43mnp\u001b[49m\u001b[38;5;241;43m.\u001b[39;49m\u001b[43marange\u001b[49m\u001b[43m(\u001b[49m\u001b[43m)\u001b[49m\n",
      "\u001b[1;31mTypeError\u001b[0m: arange() requires stop to be specified."
     ]
    }
   ],
   "source": [
    "np.arange()              # at least 1 argument / parameter required"
   ]
  },
  {
   "cell_type": "code",
   "execution_count": 25,
   "id": "a685b845-b8ed-447f-8ed7-2440a0b4d7cc",
   "metadata": {},
   "outputs": [
    {
     "data": {
      "text/plain": [
       "array([10, 15, 20, 25])"
      ]
     },
     "execution_count": 25,
     "metadata": {},
     "output_type": "execute_result"
    }
   ],
   "source": [
    "np.arange(10,30,5)"
   ]
  },
  {
   "cell_type": "code",
   "execution_count": 26,
   "id": "91bd581a-f76c-479f-aef3-44e9a8a35301",
   "metadata": {},
   "outputs": [
    {
     "data": {
      "text/plain": [
       "array([0, 3, 6, 9])"
      ]
     },
     "execution_count": 26,
     "metadata": {},
     "output_type": "execute_result"
    }
   ],
   "source": [
    "np.arange(0,10,3)"
   ]
  },
  {
   "cell_type": "code",
   "execution_count": 27,
   "id": "448a1731-56c5-48d2-85c4-7ce63ab6a0af",
   "metadata": {},
   "outputs": [
    {
     "data": {
      "text/plain": [
       "array([40, 42, 44, 46, 48])"
      ]
     },
     "execution_count": 27,
     "metadata": {},
     "output_type": "execute_result"
    }
   ],
   "source": [
    "np.arange(40,50,2)"
   ]
  },
  {
   "cell_type": "code",
   "execution_count": 28,
   "id": "d6e7c034-970e-42c9-89fd-8c53307399f3",
   "metadata": {},
   "outputs": [
    {
     "ename": "TypeError",
     "evalue": "Cannot interpret '5' as a data type",
     "output_type": "error",
     "traceback": [
      "\u001b[1;31m---------------------------------------------------------------------------\u001b[0m",
      "\u001b[1;31mTypeError\u001b[0m                                 Traceback (most recent call last)",
      "Cell \u001b[1;32mIn[28], line 1\u001b[0m\n\u001b[1;32m----> 1\u001b[0m \u001b[43mnp\u001b[49m\u001b[38;5;241;43m.\u001b[39;49m\u001b[43marange\u001b[49m\u001b[43m(\u001b[49m\u001b[38;5;241;43m10\u001b[39;49m\u001b[43m,\u001b[49m\u001b[38;5;241;43m20\u001b[39;49m\u001b[43m,\u001b[49m\u001b[38;5;241;43m30\u001b[39;49m\u001b[43m,\u001b[49m\u001b[38;5;241;43m5\u001b[39;49m\u001b[43m)\u001b[49m\n",
      "\u001b[1;31mTypeError\u001b[0m: Cannot interpret '5' as a data type"
     ]
    }
   ],
   "source": [
    "np.arange(10,20,30,5)                   # four parameter are not allowed"
   ]
  },
  {
   "cell_type": "markdown",
   "id": "0a4e3f06-3fa0-4531-a2f0-836e28157354",
   "metadata": {},
   "source": [
    "# Zeros Function"
   ]
  },
  {
   "cell_type": "code",
   "execution_count": 29,
   "id": "22a0fd06-dd06-40c6-9fbb-4a60090b5387",
   "metadata": {},
   "outputs": [
    {
     "data": {
      "text/plain": [
       "array([0., 0., 0., 0., 0.])"
      ]
     },
     "execution_count": 29,
     "metadata": {},
     "output_type": "execute_result"
    }
   ],
   "source": [
    "np.zeros(5)                # parameter tuning -  Learned automatically during training."
   ]
  },
  {
   "cell_type": "code",
   "execution_count": 32,
   "id": "d1326915-87d3-4b07-9548-5fc9c887a5ee",
   "metadata": {},
   "outputs": [
    {
     "data": {
      "text/plain": [
       "array([[0, 0, 0, 0, 0],\n",
       "       [0, 0, 0, 0, 0],\n",
       "       [0, 0, 0, 0, 0],\n",
       "       [0, 0, 0, 0, 0],\n",
       "       [0, 0, 0, 0, 0]])"
      ]
     },
     "execution_count": 32,
     "metadata": {},
     "output_type": "execute_result"
    }
   ],
   "source": [
    "np.zeros((5,5),dtype =int)        # hyper parameter tuning -  Set manually and tuned to improve performance."
   ]
  },
  {
   "cell_type": "code",
   "execution_count": 36,
   "id": "e0f535b9-32dd-4bc9-adb6-ea98f504ab7b",
   "metadata": {},
   "outputs": [
    {
     "data": {
      "text/plain": [
       "numpy.ndarray"
      ]
     },
     "execution_count": 36,
     "metadata": {},
     "output_type": "execute_result"
    }
   ],
   "source": [
    "var2 = np.zeros((3,3))\n",
    "type(var2)"
   ]
  },
  {
   "cell_type": "code",
   "execution_count": 35,
   "id": "f5e120fe-23a5-4213-b716-ff923b62ab04",
   "metadata": {},
   "outputs": [
    {
     "name": "stdout",
     "output_type": "stream",
     "text": [
      "[[0. 0.]\n",
      " [0. 0.]]\n"
     ]
    },
    {
     "data": {
      "text/plain": [
       "numpy.ndarray"
      ]
     },
     "execution_count": 35,
     "metadata": {},
     "output_type": "execute_result"
    }
   ],
   "source": [
    "var = np.zeros([2,2])\n",
    "print(var)\n",
    "type(var)\n"
   ]
  },
  {
   "cell_type": "code",
   "execution_count": 38,
   "id": "2b13fc89-2c5f-47f0-a686-14f4c620c947",
   "metadata": {},
   "outputs": [
    {
     "data": {
      "text/plain": [
       "array([[0., 0., 0., 0., 0., 0., 0., 0., 0., 0.],\n",
       "       [0., 0., 0., 0., 0., 0., 0., 0., 0., 0.],\n",
       "       [0., 0., 0., 0., 0., 0., 0., 0., 0., 0.],\n",
       "       [0., 0., 0., 0., 0., 0., 0., 0., 0., 0.],\n",
       "       [0., 0., 0., 0., 0., 0., 0., 0., 0., 0.],\n",
       "       [0., 0., 0., 0., 0., 0., 0., 0., 0., 0.],\n",
       "       [0., 0., 0., 0., 0., 0., 0., 0., 0., 0.],\n",
       "       [0., 0., 0., 0., 0., 0., 0., 0., 0., 0.],\n",
       "       [0., 0., 0., 0., 0., 0., 0., 0., 0., 0.],\n",
       "       [0., 0., 0., 0., 0., 0., 0., 0., 0., 0.]])"
      ]
     },
     "execution_count": 38,
     "metadata": {},
     "output_type": "execute_result"
    }
   ],
   "source": [
    "np.zeros((10,10))"
   ]
  },
  {
   "cell_type": "code",
   "execution_count": 39,
   "id": "c9284442-da83-4fbf-b273-32c3af7735b9",
   "metadata": {},
   "outputs": [
    {
     "name": "stdout",
     "output_type": "stream",
     "text": [
      "[[0. 0.]\n",
      " [0. 0.]]\n"
     ]
    }
   ],
   "source": [
    "n = (2,2)\n",
    "var3 = np.zeros(n)   # parameter tuning\n",
    "print(var3)"
   ]
  },
  {
   "cell_type": "code",
   "execution_count": 41,
   "id": "badcf8bf-e86e-4ccf-908f-3fbe664e6fe4",
   "metadata": {},
   "outputs": [
    {
     "name": "stdout",
     "output_type": "stream",
     "text": [
      "[[0 0 0]\n",
      " [0 0 0]\n",
      " [0 0 0]]\n"
     ]
    }
   ],
   "source": [
    "n1 = (3,3)\n",
    "var4 = np.zeros(n1,dtype=int)\n",
    "print(var4)"
   ]
  },
  {
   "cell_type": "markdown",
   "id": "fb371cea-592d-497f-b1e2-8785a17f3901",
   "metadata": {},
   "source": [
    "# ones function"
   ]
  },
  {
   "cell_type": "code",
   "execution_count": 43,
   "id": "2194f6ea-5c65-4eb3-849c-a9e440ff8f01",
   "metadata": {},
   "outputs": [
    {
     "data": {
      "text/plain": [
       "array([[1., 1.],\n",
       "       [1., 1.]])"
      ]
     },
     "execution_count": 43,
     "metadata": {},
     "output_type": "execute_result"
    }
   ],
   "source": [
    "np.ones((2,2))"
   ]
  },
  {
   "cell_type": "code",
   "execution_count": 44,
   "id": "08b2541c-1c38-4044-8e40-2072c98e6445",
   "metadata": {},
   "outputs": [
    {
     "data": {
      "text/plain": [
       "array([[1., 1., 1., 1., 1.],\n",
       "       [1., 1., 1., 1., 1.],\n",
       "       [1., 1., 1., 1., 1.],\n",
       "       [1., 1., 1., 1., 1.],\n",
       "       [1., 1., 1., 1., 1.]])"
      ]
     },
     "execution_count": 44,
     "metadata": {},
     "output_type": "execute_result"
    }
   ],
   "source": [
    "np.ones((5,5))"
   ]
  },
  {
   "cell_type": "code",
   "execution_count": 45,
   "id": "af643c75-3505-43dd-81e3-c1c634daae02",
   "metadata": {},
   "outputs": [
    {
     "data": {
      "text/plain": [
       "array([[1, 1, 1, 1],\n",
       "       [1, 1, 1, 1],\n",
       "       [1, 1, 1, 1],\n",
       "       [1, 1, 1, 1]])"
      ]
     },
     "execution_count": 45,
     "metadata": {},
     "output_type": "execute_result"
    }
   ],
   "source": [
    "np.ones((4,4),dtype=int)       # hyperparamter tuning"
   ]
  },
  {
   "cell_type": "code",
   "execution_count": 47,
   "id": "d8dd4c95-36d7-4056-a214-1ab30ff404ab",
   "metadata": {},
   "outputs": [
    {
     "name": "stdout",
     "output_type": "stream",
     "text": [
      "[[1 1 1]\n",
      " [1 1 1]\n",
      " [1 1 1]]\n"
     ]
    }
   ],
   "source": [
    "n4 = (3,3)                 \n",
    "var6 = np.ones(n4,dtype=int)       \n",
    "print(var6)"
   ]
  },
  {
   "cell_type": "code",
   "execution_count": 48,
   "id": "e6b8d58b-58b3-4bd7-907f-fbd0bf435507",
   "metadata": {},
   "outputs": [
    {
     "data": {
      "text/plain": [
       "array([1., 1., 1., 1., 1.])"
      ]
     },
     "execution_count": 48,
     "metadata": {},
     "output_type": "execute_result"
    }
   ],
   "source": [
    "np.ones(5)"
   ]
  },
  {
   "cell_type": "code",
   "execution_count": 49,
   "id": "bbdc3647-0319-42b7-a04b-a7e59c4b5ee5",
   "metadata": {},
   "outputs": [
    {
     "ename": "AttributeError",
     "evalue": "module 'numpy' has no attribute 'twos'",
     "output_type": "error",
     "traceback": [
      "\u001b[1;31m---------------------------------------------------------------------------\u001b[0m",
      "\u001b[1;31mAttributeError\u001b[0m                            Traceback (most recent call last)",
      "Cell \u001b[1;32mIn[49], line 1\u001b[0m\n\u001b[1;32m----> 1\u001b[0m \u001b[43mnp\u001b[49m\u001b[38;5;241;43m.\u001b[39;49m\u001b[43mtwos\u001b[49m(\u001b[38;5;241m5\u001b[39m)\n",
      "File \u001b[1;32m~\\AppData\\Local\\Programs\\Python\\Python312\\Lib\\site-packages\\numpy\\__init__.py:347\u001b[0m, in \u001b[0;36m__getattr__\u001b[1;34m(attr)\u001b[0m\n\u001b[0;32m    344\u001b[0m     \u001b[38;5;124m\"\u001b[39m\u001b[38;5;124mRemoved in NumPy 1.25.0\u001b[39m\u001b[38;5;124m\"\u001b[39m\n\u001b[0;32m    345\u001b[0m     \u001b[38;5;28;01mraise\u001b[39;00m \u001b[38;5;167;01mRuntimeError\u001b[39;00m(\u001b[38;5;124m\"\u001b[39m\u001b[38;5;124mTester was removed in NumPy 1.25.\u001b[39m\u001b[38;5;124m\"\u001b[39m)\n\u001b[1;32m--> 347\u001b[0m \u001b[38;5;28;01mraise\u001b[39;00m \u001b[38;5;167;01mAttributeError\u001b[39;00m(\u001b[38;5;124m\"\u001b[39m\u001b[38;5;124mmodule \u001b[39m\u001b[38;5;132;01m{!r}\u001b[39;00m\u001b[38;5;124m has no attribute \u001b[39m\u001b[38;5;124m\"\u001b[39m\n\u001b[0;32m    348\u001b[0m                      \u001b[38;5;124m\"\u001b[39m\u001b[38;5;132;01m{!r}\u001b[39;00m\u001b[38;5;124m\"\u001b[39m\u001b[38;5;241m.\u001b[39mformat(\u001b[38;5;18m__name__\u001b[39m, attr))\n",
      "\u001b[1;31mAttributeError\u001b[0m: module 'numpy' has no attribute 'twos'"
     ]
    }
   ],
   "source": [
    "np.twos(5)"
   ]
  },
  {
   "cell_type": "code",
   "execution_count": 50,
   "id": "e94c5517-219d-40e3-a5f5-a6339097e639",
   "metadata": {},
   "outputs": [
    {
     "ename": "AttributeError",
     "evalue": "module 'numpy' has no attribute 'threeos'",
     "output_type": "error",
     "traceback": [
      "\u001b[1;31m---------------------------------------------------------------------------\u001b[0m",
      "\u001b[1;31mAttributeError\u001b[0m                            Traceback (most recent call last)",
      "Cell \u001b[1;32mIn[50], line 1\u001b[0m\n\u001b[1;32m----> 1\u001b[0m \u001b[43mnp\u001b[49m\u001b[38;5;241;43m.\u001b[39;49m\u001b[43mthreeos\u001b[49m(\u001b[38;5;241m3\u001b[39m,\u001b[38;5;241m3\u001b[39m)\n",
      "File \u001b[1;32m~\\AppData\\Local\\Programs\\Python\\Python312\\Lib\\site-packages\\numpy\\__init__.py:347\u001b[0m, in \u001b[0;36m__getattr__\u001b[1;34m(attr)\u001b[0m\n\u001b[0;32m    344\u001b[0m     \u001b[38;5;124m\"\u001b[39m\u001b[38;5;124mRemoved in NumPy 1.25.0\u001b[39m\u001b[38;5;124m\"\u001b[39m\n\u001b[0;32m    345\u001b[0m     \u001b[38;5;28;01mraise\u001b[39;00m \u001b[38;5;167;01mRuntimeError\u001b[39;00m(\u001b[38;5;124m\"\u001b[39m\u001b[38;5;124mTester was removed in NumPy 1.25.\u001b[39m\u001b[38;5;124m\"\u001b[39m)\n\u001b[1;32m--> 347\u001b[0m \u001b[38;5;28;01mraise\u001b[39;00m \u001b[38;5;167;01mAttributeError\u001b[39;00m(\u001b[38;5;124m\"\u001b[39m\u001b[38;5;124mmodule \u001b[39m\u001b[38;5;132;01m{!r}\u001b[39;00m\u001b[38;5;124m has no attribute \u001b[39m\u001b[38;5;124m\"\u001b[39m\n\u001b[0;32m    348\u001b[0m                      \u001b[38;5;124m\"\u001b[39m\u001b[38;5;132;01m{!r}\u001b[39;00m\u001b[38;5;124m\"\u001b[39m\u001b[38;5;241m.\u001b[39mformat(\u001b[38;5;18m__name__\u001b[39m, attr))\n",
      "\u001b[1;31mAttributeError\u001b[0m: module 'numpy' has no attribute 'threeos'"
     ]
    }
   ],
   "source": [
    "np.threeos(3,3)"
   ]
  },
  {
   "cell_type": "code",
   "execution_count": 51,
   "id": "bd46e8b1-e6b1-4811-a62a-8d2b09c4f696",
   "metadata": {},
   "outputs": [
    {
     "data": {
      "text/plain": [
       "array([[2, 2, 2, 2, 2],\n",
       "       [2, 2, 2, 2, 2],\n",
       "       [2, 2, 2, 2, 2],\n",
       "       [2, 2, 2, 2, 2],\n",
       "       [2, 2, 2, 2, 2]])"
      ]
     },
     "execution_count": 51,
     "metadata": {},
     "output_type": "execute_result"
    }
   ],
   "source": [
    "np.full((5,5,),2)           # full join which element we want"
   ]
  },
  {
   "cell_type": "code",
   "execution_count": 52,
   "id": "d1244517-16de-43f6-be7a-ec95cba54c26",
   "metadata": {},
   "outputs": [
    {
     "data": {
      "text/plain": [
       "array([[9, 9, 9],\n",
       "       [9, 9, 9],\n",
       "       [9, 9, 9]])"
      ]
     },
     "execution_count": 52,
     "metadata": {},
     "output_type": "execute_result"
    }
   ],
   "source": [
    "np.full((3,3),9)       "
   ]
  },
  {
   "cell_type": "code",
   "execution_count": 53,
   "id": "1191afdc-f279-494f-a733-8040b157f196",
   "metadata": {},
   "outputs": [
    {
     "data": {
      "text/plain": [
       "array([[1., 0., 0., 0.],\n",
       "       [0., 1., 0., 0.],\n",
       "       [0., 0., 1., 0.],\n",
       "       [0., 0., 0., 1.]])"
      ]
     },
     "execution_count": 53,
     "metadata": {},
     "output_type": "execute_result"
    }
   ],
   "source": [
    "np.eye(4)                        # print identity matrix"
   ]
  },
  {
   "cell_type": "code",
   "execution_count": 55,
   "id": "4eaa9971-a7e1-4d8b-b044-29649706a637",
   "metadata": {},
   "outputs": [
    {
     "data": {
      "text/plain": [
       "array([[1, 0, 0, 0, 0],\n",
       "       [0, 1, 0, 0, 0],\n",
       "       [0, 0, 1, 0, 0],\n",
       "       [0, 0, 0, 1, 0],\n",
       "       [0, 0, 0, 0, 1]])"
      ]
     },
     "execution_count": 55,
     "metadata": {},
     "output_type": "execute_result"
    }
   ],
   "source": [
    "np.identity(5,dtype=int)"
   ]
  },
  {
   "cell_type": "markdown",
   "id": "cd6070a1-6f07-4a15-899c-1401508cc227",
   "metadata": {},
   "source": [
    "# range"
   ]
  },
  {
   "cell_type": "code",
   "execution_count": 56,
   "id": "7010412f-3748-4f6f-aaa0-76e32cecf679",
   "metadata": {},
   "outputs": [
    {
     "data": {
      "text/plain": [
       "range(0, 10)"
      ]
     },
     "execution_count": 56,
     "metadata": {},
     "output_type": "execute_result"
    }
   ],
   "source": [
    "range(10)"
   ]
  },
  {
   "cell_type": "code",
   "execution_count": 62,
   "id": "088b2d5e-3d4d-42ef-8272-620500011041",
   "metadata": {},
   "outputs": [
    {
     "data": {
      "text/plain": [
       "[0, 1, 2, 3, 4, 5, 6, 7, 8, 9]"
      ]
     },
     "execution_count": 62,
     "metadata": {},
     "output_type": "execute_result"
    }
   ],
   "source": [
    "v = list(range(10))\n",
    "v"
   ]
  },
  {
   "cell_type": "code",
   "execution_count": 63,
   "id": "10c44482-e41b-4bd2-9cea-3722bdd4b2ba",
   "metadata": {},
   "outputs": [
    {
     "data": {
      "text/plain": [
       "list"
      ]
     },
     "execution_count": 63,
     "metadata": {},
     "output_type": "execute_result"
    }
   ],
   "source": [
    "type(v)"
   ]
  },
  {
   "cell_type": "code",
   "execution_count": 64,
   "id": "c37ca74e-cb7c-47a9-96c6-779519e5d15d",
   "metadata": {},
   "outputs": [
    {
     "name": "stdout",
     "output_type": "stream",
     "text": [
      "0\n",
      "1\n",
      "2\n",
      "3\n",
      "4\n",
      "5\n",
      "6\n",
      "7\n",
      "8\n",
      "9\n"
     ]
    }
   ],
   "source": [
    "for i in v:\n",
    "    print(i)"
   ]
  },
  {
   "cell_type": "markdown",
   "id": "bfc7a16f-ddfe-44ae-9844-51fca39064eb",
   "metadata": {},
   "source": [
    "# Rand function"
   ]
  },
  {
   "cell_type": "raw",
   "id": "7e8672f5-2f19-454f-91ae-a9de33f05856",
   "metadata": {},
   "source": [
    "The Rand function in Python is commonly used from the NumPy library to generaterandom numbers.It creates an array of random numbers between 0 and 1."
   ]
  },
  {
   "cell_type": "code",
   "execution_count": 66,
   "id": "fc4a4ac9-fe2b-4300-84bb-8d3dc9cabc35",
   "metadata": {},
   "outputs": [
    {
     "ename": "AttributeError",
     "evalue": "module 'numpy' has no attribute 'rand'",
     "output_type": "error",
     "traceback": [
      "\u001b[1;31m---------------------------------------------------------------------------\u001b[0m",
      "\u001b[1;31mAttributeError\u001b[0m                            Traceback (most recent call last)",
      "Cell \u001b[1;32mIn[66], line 1\u001b[0m\n\u001b[1;32m----> 1\u001b[0m \u001b[43mnp\u001b[49m\u001b[38;5;241;43m.\u001b[39;49m\u001b[43mrand\u001b[49m(\u001b[38;5;241m3\u001b[39m,\u001b[38;5;241m2\u001b[39m)\n",
      "File \u001b[1;32m~\\AppData\\Local\\Programs\\Python\\Python312\\Lib\\site-packages\\numpy\\__init__.py:347\u001b[0m, in \u001b[0;36m__getattr__\u001b[1;34m(attr)\u001b[0m\n\u001b[0;32m    344\u001b[0m     \u001b[38;5;124m\"\u001b[39m\u001b[38;5;124mRemoved in NumPy 1.25.0\u001b[39m\u001b[38;5;124m\"\u001b[39m\n\u001b[0;32m    345\u001b[0m     \u001b[38;5;28;01mraise\u001b[39;00m \u001b[38;5;167;01mRuntimeError\u001b[39;00m(\u001b[38;5;124m\"\u001b[39m\u001b[38;5;124mTester was removed in NumPy 1.25.\u001b[39m\u001b[38;5;124m\"\u001b[39m)\n\u001b[1;32m--> 347\u001b[0m \u001b[38;5;28;01mraise\u001b[39;00m \u001b[38;5;167;01mAttributeError\u001b[39;00m(\u001b[38;5;124m\"\u001b[39m\u001b[38;5;124mmodule \u001b[39m\u001b[38;5;132;01m{!r}\u001b[39;00m\u001b[38;5;124m has no attribute \u001b[39m\u001b[38;5;124m\"\u001b[39m\n\u001b[0;32m    348\u001b[0m                      \u001b[38;5;124m\"\u001b[39m\u001b[38;5;132;01m{!r}\u001b[39;00m\u001b[38;5;124m\"\u001b[39m\u001b[38;5;241m.\u001b[39mformat(\u001b[38;5;18m__name__\u001b[39m, attr))\n",
      "\u001b[1;31mAttributeError\u001b[0m: module 'numpy' has no attribute 'rand'"
     ]
    }
   ],
   "source": [
    "np.rand(3,2)"
   ]
  },
  {
   "cell_type": "code",
   "execution_count": 83,
   "id": "b3fe7a1e-089b-4811-b4e1-5cd59afffe1b",
   "metadata": {},
   "outputs": [
    {
     "data": {
      "text/plain": [
       "array([[[0.63458829, 0.57634478],\n",
       "        [0.48005612, 0.95557246]],\n",
       "\n",
       "       [[0.38269697, 0.93001061],\n",
       "        [0.09768508, 0.99321732]],\n",
       "\n",
       "       [[0.88322482, 0.58957727],\n",
       "        [0.39275507, 0.42537075]]])"
      ]
     },
     "execution_count": 83,
     "metadata": {},
     "output_type": "execute_result"
    }
   ],
   "source": [
    "np.random.rand(3,2,2)"
   ]
  },
  {
   "cell_type": "code",
   "execution_count": 68,
   "id": "923299e5-d35d-42aa-b6c7-01010285fd88",
   "metadata": {},
   "outputs": [
    {
     "data": {
      "text/plain": [
       "array([0.2700109 , 0.76570421, 0.9947317 , 0.67271824, 0.26689739])"
      ]
     },
     "execution_count": 68,
     "metadata": {},
     "output_type": "execute_result"
    }
   ],
   "source": [
    "np.random.rand(5)"
   ]
  },
  {
   "cell_type": "code",
   "execution_count": 85,
   "id": "e4221b63-ebaa-4005-b183-60bbf8ae0c49",
   "metadata": {},
   "outputs": [
    {
     "data": {
      "text/plain": [
       "array([[0.52188321, 0.76090141, 0.37645949, 0.08416628, 0.75039278],\n",
       "       [0.77764893, 0.28320052, 0.68187395, 0.27036783, 0.13298778],\n",
       "       [0.74168909, 0.03690021, 0.73069007, 0.54728347, 0.62769942],\n",
       "       [0.55545334, 0.17730046, 0.99070669, 0.11923192, 0.63700667],\n",
       "       [0.91262341, 0.33467792, 0.22367611, 0.48349963, 0.34230978]])"
      ]
     },
     "execution_count": 85,
     "metadata": {},
     "output_type": "execute_result"
    }
   ],
   "source": [
    "np.random.rand(5,5)"
   ]
  },
  {
   "cell_type": "code",
   "execution_count": 70,
   "id": "7676c984-f782-4907-923b-edb374ffd169",
   "metadata": {},
   "outputs": [
    {
     "data": {
      "text/plain": [
       "10"
      ]
     },
     "execution_count": 70,
     "metadata": {},
     "output_type": "execute_result"
    }
   ],
   "source": [
    "np.random.randint(10,20)"
   ]
  },
  {
   "cell_type": "code",
   "execution_count": 71,
   "id": "0633ccb4-105b-4913-ad25-fdd4b1cb7b5e",
   "metadata": {},
   "outputs": [
    {
     "data": {
      "text/plain": [
       "1"
      ]
     },
     "execution_count": 71,
     "metadata": {},
     "output_type": "execute_result"
    }
   ],
   "source": [
    "np.random.randint(5)"
   ]
  },
  {
   "cell_type": "code",
   "execution_count": 77,
   "id": "09e47a27-112a-4332-a81d-c61b5e4eb6d6",
   "metadata": {},
   "outputs": [
    {
     "data": {
      "text/plain": [
       "array([11, 11, 16])"
      ]
     },
     "execution_count": 77,
     "metadata": {},
     "output_type": "execute_result"
    }
   ],
   "source": [
    "np.random.randint(10,20,3)"
   ]
  },
  {
   "cell_type": "code",
   "execution_count": 78,
   "id": "d9adee3e-560c-4941-95ac-cdce2def7cdd",
   "metadata": {},
   "outputs": [
    {
     "data": {
      "text/plain": [
       "array([[0.73575785, 0.594342  , 0.8413231 , 0.07671085, 0.64109239],\n",
       "       [0.40564242, 0.24684802, 0.35564815, 0.38541942, 0.87126566],\n",
       "       [0.57151373, 0.97953739, 0.36495427, 0.83512745, 0.22281781],\n",
       "       [0.95173826, 0.86217206, 0.16382252, 0.01722053, 0.80478329],\n",
       "       [0.3923341 , 0.22428689, 0.57932848, 0.77457715, 0.75984976]])"
      ]
     },
     "execution_count": 78,
     "metadata": {},
     "output_type": "execute_result"
    }
   ],
   "source": [
    "np.random.rand(5,5)"
   ]
  },
  {
   "cell_type": "code",
   "execution_count": 79,
   "id": "8dbb949b-a84b-4f5c-af1b-2e25889ba1ac",
   "metadata": {},
   "outputs": [
    {
     "data": {
      "text/plain": [
       "array([23, 40, 30, 22, 30])"
      ]
     },
     "execution_count": 79,
     "metadata": {},
     "output_type": "execute_result"
    }
   ],
   "source": [
    "np.random.randint(20,50,5)"
   ]
  },
  {
   "cell_type": "code",
   "execution_count": 81,
   "id": "fb892326-4b4a-445f-9497-de35dc3a7b5a",
   "metadata": {},
   "outputs": [
    {
     "data": {
      "text/plain": [
       "array([  4, -18,  -7,   9,  -4])"
      ]
     },
     "execution_count": 81,
     "metadata": {},
     "output_type": "execute_result"
    }
   ],
   "source": [
    "np.random.randint(-20.8,10,5)"
   ]
  },
  {
   "cell_type": "code",
   "execution_count": 82,
   "id": "6fa2830e-15d0-4e8a-bba2-0451687f3974",
   "metadata": {},
   "outputs": [
    {
     "data": {
      "text/plain": [
       "array([[16, 14, 11],\n",
       "       [16, 15, 18],\n",
       "       [13, 18, 12]])"
      ]
     },
     "execution_count": 82,
     "metadata": {},
     "output_type": "execute_result"
    }
   ],
   "source": [
    "np.random.randint(10,20,(3,3))"
   ]
  },
  {
   "cell_type": "code",
   "execution_count": 86,
   "id": "3118d1a0-735f-47ff-ae28-2e0bd7e8ba2d",
   "metadata": {},
   "outputs": [
    {
     "data": {
      "text/plain": [
       "array([[148, 165, 169, 154],\n",
       "       [136, 187, 136, 115],\n",
       "       [127, 136, 128, 193],\n",
       "       [168, 150, 157, 128]])"
      ]
     },
     "execution_count": 86,
     "metadata": {},
     "output_type": "execute_result"
    }
   ],
   "source": [
    "np.random.randint(100,200,(4,4))"
   ]
  },
  {
   "cell_type": "code",
   "execution_count": 87,
   "id": "b1708697-7960-4381-9dff-5f8ca231d2a2",
   "metadata": {},
   "outputs": [
    {
     "data": {
      "text/plain": [
       "array([21, 21])"
      ]
     },
     "execution_count": 87,
     "metadata": {},
     "output_type": "execute_result"
    }
   ],
   "source": [
    "np.random.randint(20,25,2)"
   ]
  },
  {
   "cell_type": "markdown",
   "id": "71107839-edab-4811-95d2-6b0e0afd718d",
   "metadata": {},
   "source": [
    "# repshape"
   ]
  },
  {
   "cell_type": "code",
   "execution_count": 90,
   "id": "fb5b04d0-df95-4af1-a7bb-0a05cf37ab3e",
   "metadata": {},
   "outputs": [
    {
     "data": {
      "text/plain": [
       "array([[ 1,  2,  3,  4],\n",
       "       [ 5,  6,  7,  8],\n",
       "       [ 9, 10, 11, 12]])"
      ]
     },
     "execution_count": 90,
     "metadata": {},
     "output_type": "execute_result"
    }
   ],
   "source": [
    "np.arange(1,13).reshape(3,4)"
   ]
  },
  {
   "cell_type": "code",
   "execution_count": 92,
   "id": "7aba7781-cdcc-4bda-81e2-513274c97318",
   "metadata": {},
   "outputs": [
    {
     "data": {
      "text/plain": [
       "array([], dtype=int32)"
      ]
     },
     "execution_count": 92,
     "metadata": {},
     "output_type": "execute_result"
    }
   ],
   "source": [
    "np.arange(10,10)"
   ]
  },
  {
   "cell_type": "code",
   "execution_count": 93,
   "id": "539ddc0d-3aa2-438a-b45a-8b2155f0d098",
   "metadata": {},
   "outputs": [
    {
     "data": {
      "text/plain": [
       "array([5])"
      ]
     },
     "execution_count": 93,
     "metadata": {},
     "output_type": "execute_result"
    }
   ],
   "source": [
    "np.arange(5,6)"
   ]
  },
  {
   "cell_type": "code",
   "execution_count": 97,
   "id": "8879be69-c334-4545-babb-282b7a77903b",
   "metadata": {},
   "outputs": [
    {
     "data": {
      "text/plain": [
       "array([[ 1,  2,  3,  4],\n",
       "       [ 5,  6,  7,  8],\n",
       "       [ 9, 10, 11, 12]])"
      ]
     },
     "execution_count": 97,
     "metadata": {},
     "output_type": "execute_result"
    }
   ],
   "source": [
    "np.arange(1,13).reshape(3,4)"
   ]
  },
  {
   "cell_type": "code",
   "execution_count": 98,
   "id": "73177e43-77e7-469f-bca5-3418df3b764a",
   "metadata": {},
   "outputs": [
    {
     "data": {
      "text/plain": [
       "array([[1, 2, 3],\n",
       "       [4, 5, 6],\n",
       "       [7, 8, 9]])"
      ]
     },
     "execution_count": 98,
     "metadata": {},
     "output_type": "execute_result"
    }
   ],
   "source": [
    "np.arange(1,10).reshape(3,3)"
   ]
  },
  {
   "cell_type": "code",
   "execution_count": 105,
   "id": "e123808c-f02a-4ee4-9638-bd03ff9ed92d",
   "metadata": {},
   "outputs": [
    {
     "data": {
      "text/plain": [
       "array([[20, 21, 22],\n",
       "       [23, 24, 25],\n",
       "       [26, 27, 28]])"
      ]
     },
     "execution_count": 105,
     "metadata": {},
     "output_type": "execute_result"
    }
   ],
   "source": [
    "new = np.arange(20,29).reshape(3,3)\n",
    "new"
   ]
  },
  {
   "cell_type": "markdown",
   "id": "9c7f6797-c0cb-4e44-831e-563f029610e0",
   "metadata": {},
   "source": [
    "# indexing and slicing"
   ]
  },
  {
   "cell_type": "code",
   "execution_count": 106,
   "id": "5870314e-1986-4d5b-9e24-47420aaa4413",
   "metadata": {},
   "outputs": [
    {
     "data": {
      "text/plain": [
       "array([[20, 21, 22],\n",
       "       [23, 24, 25],\n",
       "       [26, 27, 28]])"
      ]
     },
     "execution_count": 106,
     "metadata": {},
     "output_type": "execute_result"
    }
   ],
   "source": [
    "new[:]"
   ]
  },
  {
   "cell_type": "code",
   "execution_count": 107,
   "id": "342f2d9b-af18-4681-b07d-8c16ba30179f",
   "metadata": {},
   "outputs": [
    {
     "data": {
      "text/plain": [
       "24"
      ]
     },
     "execution_count": 107,
     "metadata": {},
     "output_type": "execute_result"
    }
   ],
   "source": [
    "new[1,1]"
   ]
  },
  {
   "cell_type": "code",
   "execution_count": 108,
   "id": "cae863af-44b5-466c-a84c-805e6d875757",
   "metadata": {},
   "outputs": [
    {
     "data": {
      "text/plain": [
       "array([[20, 21, 22],\n",
       "       [23, 24, 25],\n",
       "       [26, 27, 28]])"
      ]
     },
     "execution_count": 108,
     "metadata": {},
     "output_type": "execute_result"
    }
   ],
   "source": [
    "new[0:3,0:3]"
   ]
  },
  {
   "cell_type": "code",
   "execution_count": 110,
   "id": "794a2197-1937-40f4-94a3-612e03cfea77",
   "metadata": {},
   "outputs": [
    {
     "data": {
      "text/plain": [
       "array([[20, 21, 22]])"
      ]
     },
     "execution_count": 110,
     "metadata": {},
     "output_type": "execute_result"
    }
   ],
   "source": [
    "new[0:1,0:3]"
   ]
  },
  {
   "cell_type": "code",
   "execution_count": 111,
   "id": "f39ed3fd-16a9-4b28-8b27-0a54b3f96456",
   "metadata": {},
   "outputs": [
    {
     "data": {
      "text/plain": [
       "22"
      ]
     },
     "execution_count": 111,
     "metadata": {},
     "output_type": "execute_result"
    }
   ],
   "source": [
    "new[0,2]"
   ]
  },
  {
   "cell_type": "code",
   "execution_count": null,
   "id": "e1b50858-e1a8-401a-8f0a-f091bd4eaedb",
   "metadata": {},
   "outputs": [],
   "source": [
    "# variable[start:stop:step]"
   ]
  },
  {
   "cell_type": "code",
   "execution_count": 114,
   "id": "2495a557-222a-4333-9816-ed0c0a2d8bf1",
   "metadata": {},
   "outputs": [
    {
     "data": {
      "text/plain": [
       "array([[23, 24, 25]])"
      ]
     },
     "execution_count": 114,
     "metadata": {},
     "output_type": "execute_result"
    }
   ],
   "source": [
    "new[1:2]        # access only row "
   ]
  },
  {
   "cell_type": "code",
   "execution_count": 115,
   "id": "444ec6b1-ed19-4b1c-a55f-f4a264efd526",
   "metadata": {},
   "outputs": [
    {
     "data": {
      "text/plain": [
       "array([22, 25, 28])"
      ]
     },
     "execution_count": 115,
     "metadata": {},
     "output_type": "execute_result"
    }
   ],
   "source": [
    "new[:,2]"
   ]
  },
  {
   "cell_type": "code",
   "execution_count": 116,
   "id": "5bbc69d3-acc5-4518-a0a6-00449a8c13dc",
   "metadata": {},
   "outputs": [
    {
     "data": {
      "text/plain": [
       "array([20, 21, 22])"
      ]
     },
     "execution_count": 116,
     "metadata": {},
     "output_type": "execute_result"
    }
   ],
   "source": [
    "new[0]       # access row"
   ]
  },
  {
   "cell_type": "code",
   "execution_count": 117,
   "id": "28d272c4-8e5f-4a4e-972b-1481495e8307",
   "metadata": {},
   "outputs": [
    {
     "data": {
      "text/plain": [
       "array([20, 23, 26])"
      ]
     },
     "execution_count": 117,
     "metadata": {},
     "output_type": "execute_result"
    }
   ],
   "source": [
    "new[:,0]       # access column"
   ]
  },
  {
   "cell_type": "code",
   "execution_count": 118,
   "id": "608fb9b4-532e-45ee-a26a-4176afce7d59",
   "metadata": {},
   "outputs": [
    {
     "data": {
      "text/plain": [
       "array([26, 27, 28])"
      ]
     },
     "execution_count": 118,
     "metadata": {},
     "output_type": "execute_result"
    }
   ],
   "source": [
    "new[-1]"
   ]
  },
  {
   "cell_type": "code",
   "execution_count": 127,
   "id": "5c3bd7e6-d177-4b77-9a9a-1d2745cefaba",
   "metadata": {},
   "outputs": [
    {
     "data": {
      "text/plain": [
       "array([26, 27, 28])"
      ]
     },
     "execution_count": 127,
     "metadata": {},
     "output_type": "execute_result"
    }
   ],
   "source": [
    "new[-1]"
   ]
  },
  {
   "cell_type": "code",
   "execution_count": 128,
   "id": "48a21e1e-33da-4958-b52b-9d536dce3481",
   "metadata": {},
   "outputs": [
    {
     "data": {
      "text/plain": [
       "array([[20, 21, 22],\n",
       "       [23, 24, 25],\n",
       "       [26, 27, 28]])"
      ]
     },
     "execution_count": 128,
     "metadata": {},
     "output_type": "execute_result"
    }
   ],
   "source": [
    "new"
   ]
  },
  {
   "cell_type": "code",
   "execution_count": 129,
   "id": "0bb15c85-c1fc-4265-8fc4-60ab66612f5d",
   "metadata": {},
   "outputs": [
    {
     "data": {
      "text/plain": [
       "28"
      ]
     },
     "execution_count": 129,
     "metadata": {},
     "output_type": "execute_result"
    }
   ],
   "source": [
    "new[2,2]"
   ]
  },
  {
   "cell_type": "code",
   "execution_count": 133,
   "id": "d24cf2f1-e577-4703-8972-680f719e5491",
   "metadata": {},
   "outputs": [
    {
     "data": {
      "text/plain": [
       "array([[20, 21, 22],\n",
       "       [23, 24, 25],\n",
       "       [26, 27, 28]])"
      ]
     },
     "execution_count": 133,
     "metadata": {},
     "output_type": "execute_result"
    }
   ],
   "source": [
    "new[0:3]"
   ]
  },
  {
   "cell_type": "code",
   "execution_count": 137,
   "id": "16c21ac4-729a-41ed-adcd-37c0ffd71b63",
   "metadata": {},
   "outputs": [
    {
     "data": {
      "text/plain": [
       "array([[21, 22],\n",
       "       [24, 25]])"
      ]
     },
     "execution_count": 137,
     "metadata": {},
     "output_type": "execute_result"
    }
   ],
   "source": [
    "new[0:2,1:3]"
   ]
  },
  {
   "cell_type": "code",
   "execution_count": 138,
   "id": "0247a322-bd1d-47d4-bfae-528136becb5c",
   "metadata": {},
   "outputs": [
    {
     "data": {
      "text/plain": [
       "array([20, 21, 22])"
      ]
     },
     "execution_count": 138,
     "metadata": {},
     "output_type": "execute_result"
    }
   ],
   "source": [
    "new[0]"
   ]
  },
  {
   "cell_type": "code",
   "execution_count": 142,
   "id": "62031e86-2f94-48f5-8e37-4cc268fc0f69",
   "metadata": {},
   "outputs": [
    {
     "data": {
      "text/plain": [
       "array([22, 25, 28])"
      ]
     },
     "execution_count": 142,
     "metadata": {},
     "output_type": "execute_result"
    }
   ],
   "source": [
    "new[:,2] "
   ]
  },
  {
   "cell_type": "code",
   "execution_count": 143,
   "id": "2b11f7c9-c0ee-41f1-bd04-831d7fd54633",
   "metadata": {},
   "outputs": [
    {
     "data": {
      "text/plain": [
       "array([[20, 21, 22],\n",
       "       [23, 24, 25],\n",
       "       [26, 27, 28]])"
      ]
     },
     "execution_count": 143,
     "metadata": {},
     "output_type": "execute_result"
    }
   ],
   "source": [
    "new"
   ]
  },
  {
   "cell_type": "code",
   "execution_count": 145,
   "id": "d58ece0a-89e2-4ebe-af55-a634c08af88a",
   "metadata": {},
   "outputs": [
    {
     "data": {
      "text/plain": [
       "26"
      ]
     },
     "execution_count": 145,
     "metadata": {},
     "output_type": "execute_result"
    }
   ],
   "source": [
    "new[-1,-3]"
   ]
  },
  {
   "cell_type": "code",
   "execution_count": 146,
   "id": "f0801b7b-620e-4143-917d-1758915b8201",
   "metadata": {},
   "outputs": [
    {
     "data": {
      "text/plain": [
       "array([[20, 21, 22],\n",
       "       [23, 24, 25],\n",
       "       [26, 27, 28]])"
      ]
     },
     "execution_count": 146,
     "metadata": {},
     "output_type": "execute_result"
    }
   ],
   "source": [
    "new[0:3]"
   ]
  },
  {
   "cell_type": "code",
   "execution_count": 156,
   "id": "05f2441c-00fa-45f4-b90c-0b881b01f266",
   "metadata": {},
   "outputs": [
    {
     "data": {
      "text/plain": [
       "array([[20, 21, 22],\n",
       "       [23, 24, 25],\n",
       "       [26, 27, 28]])"
      ]
     },
     "execution_count": 156,
     "metadata": {},
     "output_type": "execute_result"
    }
   ],
   "source": [
    "new[-3:]           "
   ]
  },
  {
   "cell_type": "code",
   "execution_count": 158,
   "id": "d152fe7b-811d-4aac-b5d2-7029c3488aab",
   "metadata": {},
   "outputs": [
    {
     "data": {
      "text/plain": [
       "array([[26, 27, 28],\n",
       "       [23, 24, 25],\n",
       "       [20, 21, 22]])"
      ]
     },
     "execution_count": 158,
     "metadata": {},
     "output_type": "execute_result"
    }
   ],
   "source": [
    "new[::-1]"
   ]
  },
  {
   "cell_type": "code",
   "execution_count": 159,
   "id": "7b098541-cf4d-41fe-9382-5e1bc84bfb5e",
   "metadata": {},
   "outputs": [
    {
     "data": {
      "text/plain": [
       "26"
      ]
     },
     "execution_count": 159,
     "metadata": {},
     "output_type": "execute_result"
    }
   ],
   "source": [
    "new[-1,-3]"
   ]
  },
  {
   "cell_type": "code",
   "execution_count": 161,
   "id": "fac9e948-795c-4f11-b549-9fc1f6ba96d3",
   "metadata": {},
   "outputs": [
    {
     "name": "stdout",
     "output_type": "stream",
     "text": [
      "28\n"
     ]
    }
   ],
   "source": [
    "print(new.max())            # print max element"
   ]
  },
  {
   "cell_type": "code",
   "execution_count": 162,
   "id": "b054b5d3-e9ac-43bc-ace3-ff6326891ff1",
   "metadata": {},
   "outputs": [
    {
     "name": "stdout",
     "output_type": "stream",
     "text": [
      "20\n"
     ]
    }
   ],
   "source": [
    "print(new.min())            # print min element"
   ]
  },
  {
   "cell_type": "code",
   "execution_count": 163,
   "id": "dfc2743a-1893-4531-86dd-2ade5cd492fd",
   "metadata": {},
   "outputs": [
    {
     "data": {
      "text/plain": [
       "array([10, 20, 30, 40, 50, 60])"
      ]
     },
     "execution_count": 163,
     "metadata": {},
     "output_type": "execute_result"
    }
   ],
   "source": [
    "matrix = np.array([10,20,30,40,50,60])\n",
    "matrix"
   ]
  },
  {
   "cell_type": "code",
   "execution_count": 165,
   "id": "a1cfb073-aa74-44ee-9736-1abb5e823a0a",
   "metadata": {},
   "outputs": [
    {
     "data": {
      "text/plain": [
       "array([[10, 20],\n",
       "       [30, 40],\n",
       "       [50, 60]])"
      ]
     },
     "execution_count": 165,
     "metadata": {},
     "output_type": "execute_result"
    }
   ],
   "source": [
    "matrix.reshape(3,2)"
   ]
  },
  {
   "cell_type": "code",
   "execution_count": 166,
   "id": "7a6f42af-ff65-43fe-ab4e-595d50bf29b8",
   "metadata": {},
   "outputs": [
    {
     "data": {
      "text/plain": [
       "array([[1, 2, 3],\n",
       "       [4, 5, 6],\n",
       "       [7, 8, 9]])"
      ]
     },
     "execution_count": 166,
     "metadata": {},
     "output_type": "execute_result"
    }
   ],
   "source": [
    "np.arange(1,10).reshape(3,3)"
   ]
  },
  {
   "cell_type": "markdown",
   "id": "4db53d19-cac0-4117-bcc5-42074fc04691",
   "metadata": {},
   "source": [
    "# order , c = row wise ,F = column wise , A = c"
   ]
  },
  {
   "cell_type": "code",
   "execution_count": 167,
   "id": "8f5a89e1-4136-4a1c-b9de-73cdcf59a754",
   "metadata": {},
   "outputs": [],
   "source": [
    "mat  = np.array([1,2,3,4,5,6])"
   ]
  },
  {
   "cell_type": "code",
   "execution_count": 168,
   "id": "45190100-7b64-4ded-9651-15ee04e76bdc",
   "metadata": {},
   "outputs": [
    {
     "data": {
      "text/plain": [
       "array([1, 2, 3, 4, 5, 6])"
      ]
     },
     "execution_count": 168,
     "metadata": {},
     "output_type": "execute_result"
    }
   ],
   "source": [
    "mat"
   ]
  },
  {
   "cell_type": "code",
   "execution_count": 170,
   "id": "75bcf2a9-00cf-458e-9b89-6525ac7df2c7",
   "metadata": {},
   "outputs": [
    {
     "data": {
      "text/plain": [
       "array([[1, 2, 3],\n",
       "       [4, 5, 6]])"
      ]
     },
     "execution_count": 170,
     "metadata": {},
     "output_type": "execute_result"
    }
   ],
   "source": [
    "mat.reshape((2,3),order=\"C\")     # row wise"
   ]
  },
  {
   "cell_type": "code",
   "execution_count": 171,
   "id": "ef4f25a7-02ed-4f1e-8081-c0f2cc201352",
   "metadata": {},
   "outputs": [
    {
     "data": {
      "text/plain": [
       "array([[1, 3, 5],\n",
       "       [2, 4, 6]])"
      ]
     },
     "execution_count": 171,
     "metadata": {},
     "output_type": "execute_result"
    }
   ],
   "source": [
    "mat.reshape((2,3),order=\"F\")     # column wise"
   ]
  },
  {
   "cell_type": "code",
   "execution_count": 172,
   "id": "8cd98125-d237-4c66-8615-c176fcd822ac",
   "metadata": {},
   "outputs": [
    {
     "data": {
      "text/plain": [
       "array([[1, 2, 3],\n",
       "       [4, 5, 6]])"
      ]
     },
     "execution_count": 172,
     "metadata": {},
     "output_type": "execute_result"
    }
   ],
   "source": [
    "mat.reshape((2,3),order=\"A\")    # row wise"
   ]
  },
  {
   "cell_type": "code",
   "execution_count": null,
   "id": "0adec215-4dd7-4c74-a0bb-711ebb3399bf",
   "metadata": {},
   "outputs": [],
   "source": []
  }
 ],
 "metadata": {
  "kernelspec": {
   "display_name": "Python 3 (ipykernel)",
   "language": "python",
   "name": "python3"
  },
  "language_info": {
   "codemirror_mode": {
    "name": "ipython",
    "version": 3
   },
   "file_extension": ".py",
   "mimetype": "text/x-python",
   "name": "python",
   "nbconvert_exporter": "python",
   "pygments_lexer": "ipython3",
   "version": "3.12.4"
  }
 },
 "nbformat": 4,
 "nbformat_minor": 5
}
